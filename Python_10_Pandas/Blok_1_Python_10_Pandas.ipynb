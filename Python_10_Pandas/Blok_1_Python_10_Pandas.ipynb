{
  "nbformat": 4,
  "nbformat_minor": 0,
  "metadata": {
    "colab": {
      "provenance": [],
      "collapsed_sections": [],
      "authorship_tag": "ABX9TyPmDV5EKkh78vV0+p4ti4PJ",
      "include_colab_link": true
    },
    "kernelspec": {
      "name": "python3",
      "display_name": "Python 3"
    },
    "language_info": {
      "name": "python"
    }
  },
  "cells": [
    {
      "cell_type": "markdown",
      "metadata": {
        "id": "view-in-github",
        "colab_type": "text"
      },
      "source": [
        "<a href=\"https://colab.research.google.com/github/blacknotgrey/SF_Data_science/blob/main/Blok_1_Python_10_Pandas.ipynb\" target=\"_parent\"><img src=\"https://colab.research.google.com/assets/colab-badge.svg\" alt=\"Open In Colab\"/></a>"
      ]
    },
    {
      "cell_type": "markdown",
      "source": [
        "# **Импортируем Pandas и узнаем ее версию**"
      ],
      "metadata": {
        "id": "bPUFSNigrnML"
      }
    },
    {
      "cell_type": "code",
      "source": [
        "import pandas as pd\n",
        "pd.__version__"
      ],
      "metadata": {
        "colab": {
          "base_uri": "https://localhost:8080/",
          "height": 36
        },
        "id": "xnBuso63st2h",
        "outputId": "a4f21265-faf2-401c-ba55-771cd5d55afb"
      },
      "execution_count": 2,
      "outputs": [
        {
          "output_type": "execute_result",
          "data": {
            "text/plain": [
              "'1.3.5'"
            ],
            "application/vnd.google.colaboratory.intrinsic+json": {
              "type": "string"
            }
          },
          "metadata": {},
          "execution_count": 2
        }
      ]
    },
    {
      "cell_type": "markdown",
      "source": [
        "# **Узнаем, что выводит следующая команда**"
      ],
      "metadata": {
        "id": "7A0Y9sjSs4Fe"
      }
    },
    {
      "cell_type": "code",
      "source": [
        "print(pd.__name__)"
      ],
      "metadata": {
        "colab": {
          "base_uri": "https://localhost:8080/"
        },
        "id": "xTRCDiHgpRB1",
        "outputId": "9571cbcf-c0a5-48b6-debf-665a2c7f1227"
      },
      "execution_count": 2,
      "outputs": [
        {
          "output_type": "stream",
          "name": "stdout",
          "text": [
            "pandas\n"
          ]
        }
      ]
    },
    {
      "cell_type": "markdown",
      "source": [
        "# **Разбираемся, как работает Series.**\n",
        "Series — это упорядоченная изменяемая коллекция объектов, имеющая так называемые ассоциативные метки (индексы).\n",
        "Эту структуру можно сравнить со списком: каждому элементу ставится в соответствие индекс, однако, в отличие от списка, индексами могут быть не только порядковые номера — фактически что угодно, например названия компаний, даты, идентификаторы, наименования продуктов.\n",
        "Также для каждой Series присваивается тип данных её элементов (например int64) и может быть определено имя всего массива. В итоге мы получаем некоторый гибрид списка и словаря.\n",
        "Series в какой-то степени является единицей хранения информации в Pandas. Её можно рассматривать как именованный столбец таблицы с индексами строк."
      ],
      "metadata": {
        "id": "AWolCWEctBM9"
      }
    },
    {
      "cell_type": "markdown",
      "source": [
        "# **Для создания объекта Series используется команда pd.Series().**\n",
        "Рассмотрим несколько способов создания Series на примере со списком названий стран."
      ],
      "metadata": {
        "id": "TcEieiPltmzt"
      }
    },
    {
      "cell_type": "markdown",
      "source": [
        "Способ 1 — из списка с использованием параметров функции pd.Series()"
      ],
      "metadata": {
        "id": "3z77lGQNt3DK"
      }
    },
    {
      "cell_type": "code",
      "source": [
        "countries = pd.Series(\n",
        "    data = ['Англия', 'Канада', 'США', 'Россия', 'Украина', 'Беларусь', 'Казахстан'],\n",
        "    index = ['UK', 'CA', 'US', 'RU', 'UA', 'BY', 'KZ'],\n",
        "    name = 'countries'\n",
        ")\n",
        "display(countries)"
      ],
      "metadata": {
        "colab": {
          "base_uri": "https://localhost:8080/",
          "height": 164
        },
        "id": "N200n8nHpZ7I",
        "outputId": "e398609e-7cc5-49a0-9256-48a8a187533f"
      },
      "execution_count": 4,
      "outputs": [
        {
          "output_type": "display_data",
          "data": {
            "text/plain": [
              "UK       Англия\n",
              "CA       Канада\n",
              "US          США\n",
              "RU       Россия\n",
              "UA      Украина\n",
              "BY     Беларусь\n",
              "KZ    Казахстан\n",
              "Name: countries, dtype: object"
            ]
          },
          "metadata": {}
        }
      ]
    },
    {
      "cell_type": "markdown",
      "source": [
        "Способ 2 — из словаря, в котором ключами являются будущие метки, а значениями — будущие значения Series, при этом использование параметра name также возможно"
      ],
      "metadata": {
        "id": "7_RzxY69vFz8"
      }
    },
    {
      "cell_type": "code",
      "source": [
        "countries = pd.Series({\n",
        "    'UK': 'Англия',\n",
        "    'CA': 'Канада',\n",
        "    'US' : 'США',\n",
        "    'RU': 'Россия',\n",
        "    'UA': 'Украина',\n",
        "    'BY': 'Беларусь',\n",
        "    'KZ': 'Казахстан'},\n",
        "    name = 'countries'\n",
        ")\n",
        "display(countries)"
      ],
      "metadata": {
        "colab": {
          "base_uri": "https://localhost:8080/",
          "height": 164
        },
        "id": "cz3TX6pqrPz1",
        "outputId": "2787b2d8-7321-4c31-e8bd-d4506c9b0bc2"
      },
      "execution_count": 5,
      "outputs": [
        {
          "output_type": "display_data",
          "data": {
            "text/plain": [
              "UK       Англия\n",
              "CA       Канада\n",
              "US          США\n",
              "RU       Россия\n",
              "UA      Украина\n",
              "BY     Беларусь\n",
              "KZ    Казахстан\n",
              "Name: countries, dtype: object"
            ]
          },
          "metadata": {}
        }
      ]
    },
    {
      "cell_type": "markdown",
      "source": [
        "# **Доступ к элементам осуществляется с использованием loc или iloc**\n",
        ".loc вызывается с квадратными скобками, в которые передаются метки. В него можно передать как один индекс, так и список, чтобы получилось несколько элементов.\n",
        ".iloc также вызывается с квадратными скобками и принимает на вход порядковые номера элементов Series (нумерация начинаются с 0). В него можно так же передавать как один индекс, так и диапазон чисел. "
      ],
      "metadata": {
        "id": "BQfw9_EHACXR"
      }
    },
    {
      "cell_type": "code",
      "source": [
        "print(countries.loc['US'])\n",
        "print(countries.iloc[6])"
      ],
      "metadata": {
        "colab": {
          "base_uri": "https://localhost:8080/"
        },
        "id": "Ke16uDtAAmPn",
        "outputId": "b21c96ef-3119-48c9-eed9-fe94a85f0129"
      },
      "execution_count": 7,
      "outputs": [
        {
          "output_type": "stream",
          "name": "stdout",
          "text": [
            "США\n",
            "Казахстан\n"
          ]
        }
      ]
    }
  ]
}