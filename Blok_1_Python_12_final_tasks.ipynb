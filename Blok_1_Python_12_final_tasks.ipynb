{
 "cells": [
  {
   "cell_type": "markdown",
   "id": "efa6d499-2481-49d2-8f24-a3f6ade6d685",
   "metadata": {},
   "source": [
    "# ЗАКРЕПЛЕНИЕ ЗНАНИЙ\n",
    "\n",
    "Для решения задач нам понадобится выделить из признака title год выпуска фильма. Для этого напишем функцию get_year_release(arg). Данная функция основана на регулярных выражениях и использует модуль re. Модуль re предназначен для поиска шаблонов в тексте и встроен в язык, поэтому не нуждается в установке."
   ]
  },
  {
   "cell_type": "code",
   "execution_count": 1,
   "id": "5ee1e962-88dc-4046-ac95-874ba7a4af89",
   "metadata": {},
   "outputs": [],
   "source": [
    "import pandas as pd"
   ]
  },
  {
   "cell_type": "code",
   "execution_count": 3,
   "id": "6cd5e949-7827-465a-b742-32d704b17f80",
   "metadata": {},
   "outputs": [
    {
     "data": {
      "text/html": [
       "<div>\n",
       "<style scoped>\n",
       "    .dataframe tbody tr th:only-of-type {\n",
       "        vertical-align: middle;\n",
       "    }\n",
       "\n",
       "    .dataframe tbody tr th {\n",
       "        vertical-align: top;\n",
       "    }\n",
       "\n",
       "    .dataframe thead th {\n",
       "        text-align: right;\n",
       "    }\n",
       "</style>\n",
       "<table border=\"1\" class=\"dataframe\">\n",
       "  <thead>\n",
       "    <tr style=\"text-align: right;\">\n",
       "      <th></th>\n",
       "      <th>Unnamed: 0</th>\n",
       "      <th>userId</th>\n",
       "      <th>movieId</th>\n",
       "      <th>rating</th>\n",
       "      <th>date</th>\n",
       "      <th>title</th>\n",
       "      <th>genres</th>\n",
       "    </tr>\n",
       "  </thead>\n",
       "  <tbody>\n",
       "    <tr>\n",
       "      <th>0</th>\n",
       "      <td>0</td>\n",
       "      <td>1</td>\n",
       "      <td>1</td>\n",
       "      <td>4.0</td>\n",
       "      <td>2000-07-30 18:45:03</td>\n",
       "      <td>Toy Story (1995)</td>\n",
       "      <td>Adventure|Animation|Children|Comedy|Fantasy</td>\n",
       "    </tr>\n",
       "    <tr>\n",
       "      <th>1</th>\n",
       "      <td>1</td>\n",
       "      <td>1</td>\n",
       "      <td>3</td>\n",
       "      <td>4.0</td>\n",
       "      <td>2000-07-30 18:20:47</td>\n",
       "      <td>Grumpier Old Men (1995)</td>\n",
       "      <td>Comedy|Romance</td>\n",
       "    </tr>\n",
       "    <tr>\n",
       "      <th>2</th>\n",
       "      <td>2</td>\n",
       "      <td>1</td>\n",
       "      <td>6</td>\n",
       "      <td>4.0</td>\n",
       "      <td>2000-07-30 18:37:04</td>\n",
       "      <td>Heat (1995)</td>\n",
       "      <td>Action|Crime|Thriller</td>\n",
       "    </tr>\n",
       "    <tr>\n",
       "      <th>3</th>\n",
       "      <td>3</td>\n",
       "      <td>1</td>\n",
       "      <td>47</td>\n",
       "      <td>5.0</td>\n",
       "      <td>2000-07-30 19:03:35</td>\n",
       "      <td>Seven (a.k.a. Se7en) (1995)</td>\n",
       "      <td>Mystery|Thriller</td>\n",
       "    </tr>\n",
       "    <tr>\n",
       "      <th>4</th>\n",
       "      <td>4</td>\n",
       "      <td>1</td>\n",
       "      <td>50</td>\n",
       "      <td>5.0</td>\n",
       "      <td>2000-07-30 18:48:51</td>\n",
       "      <td>Usual Suspects, The (1995)</td>\n",
       "      <td>Crime|Mystery|Thriller</td>\n",
       "    </tr>\n",
       "  </tbody>\n",
       "</table>\n",
       "</div>"
      ],
      "text/plain": [
       "   Unnamed: 0  userId  movieId  rating                 date  \\\n",
       "0           0       1        1     4.0  2000-07-30 18:45:03   \n",
       "1           1       1        3     4.0  2000-07-30 18:20:47   \n",
       "2           2       1        6     4.0  2000-07-30 18:37:04   \n",
       "3           3       1       47     5.0  2000-07-30 19:03:35   \n",
       "4           4       1       50     5.0  2000-07-30 18:48:51   \n",
       "\n",
       "                         title                                       genres  \n",
       "0             Toy Story (1995)  Adventure|Animation|Children|Comedy|Fantasy  \n",
       "1      Grumpier Old Men (1995)                               Comedy|Romance  \n",
       "2                  Heat (1995)                        Action|Crime|Thriller  \n",
       "3  Seven (a.k.a. Se7en) (1995)                             Mystery|Thriller  \n",
       "4   Usual Suspects, The (1995)                       Crime|Mystery|Thriller  "
      ]
     },
     "execution_count": 3,
     "metadata": {},
     "output_type": "execute_result"
    }
   ],
   "source": [
    "rate_mov = pd.read_csv('data/ratings_movies.csv')\n",
    "rate_mov.head()"
   ]
  },
  {
   "cell_type": "code",
   "execution_count": 15,
   "id": "79c4f6c9-f319-4619-8ec5-5aa07fd27e32",
   "metadata": {},
   "outputs": [],
   "source": [
    "#библиотека для регулярных выражений\n",
    "import re \n",
    "def get_year_release(arg):\n",
    "    #находим все слова по шаблону \"(DDDD)\"\n",
    "    candidates = re.findall(r'\\(\\d{4}\\)', arg) \n",
    "    # проверяем число вхождений\n",
    "    if len(candidates) > 0:\n",
    "        #если число вхождений больше 0,\n",
    "\t#очищаем строку от знаков \"(\" и \")\"\n",
    "        year = candidates[0].replace('(', '')\n",
    "        year = year.replace(')', '')\n",
    "        year = int(year)\n",
    "        return year\n",
    "    else:\n",
    "        #если год не указан, возвращаем None\n",
    "        return None"
   ]
  },
  {
   "cell_type": "markdown",
   "id": "33427a00-f4df-4906-bcd7-620dd4cc8f34",
   "metadata": {},
   "source": [
    "## Создайте в таблице новый признак year_release, который соответствует году выпуска фильма. У скольких фильмов не указан год их выпуска?"
   ]
  },
  {
   "cell_type": "code",
   "execution_count": 16,
   "id": "0830a106-1684-4a3e-bfdc-cb6c9775fc12",
   "metadata": {},
   "outputs": [
    {
     "data": {
      "text/plain": [
       "0         1995.0\n",
       "1         1995.0\n",
       "2         1995.0\n",
       "3         1995.0\n",
       "4         1995.0\n",
       "           ...  \n",
       "100831    2017.0\n",
       "100832    2017.0\n",
       "100833    2017.0\n",
       "100834    2017.0\n",
       "100835    2017.0\n",
       "Name: title, Length: 100836, dtype: float64"
      ]
     },
     "metadata": {},
     "output_type": "display_data"
    }
   ],
   "source": [
    "rate_mov['year_release'] = rate_mov['title'].apply(get_year_release)\n",
    "display(year_release)"
   ]
  },
  {
   "cell_type": "code",
   "execution_count": 17,
   "id": "cf9863bc-7e20-48e7-a6cf-b4d3f6338c30",
   "metadata": {},
   "outputs": [
    {
     "name": "stdout",
     "output_type": "stream",
     "text": [
      "<class 'pandas.core.frame.DataFrame'>\n",
      "RangeIndex: 100836 entries, 0 to 100835\n",
      "Data columns (total 8 columns):\n",
      " #   Column        Non-Null Count   Dtype  \n",
      "---  ------        --------------   -----  \n",
      " 0   Unnamed: 0    100836 non-null  int64  \n",
      " 1   userId        100836 non-null  int64  \n",
      " 2   movieId       100836 non-null  int64  \n",
      " 3   rating        100836 non-null  float64\n",
      " 4   date          100836 non-null  object \n",
      " 5   title         100836 non-null  object \n",
      " 6   genres        100836 non-null  object \n",
      " 7   year_release  100818 non-null  float64\n",
      "dtypes: float64(2), int64(3), object(3)\n",
      "memory usage: 6.2+ MB\n"
     ]
    }
   ],
   "source": [
    "rate_mov.info()"
   ]
  },
  {
   "cell_type": "code",
   "execution_count": 9,
   "id": "4d50e59e-edda-4d0b-9175-99c1ef00faa5",
   "metadata": {},
   "outputs": [
    {
     "data": {
      "text/html": [
       "<div>\n",
       "<style scoped>\n",
       "    .dataframe tbody tr th:only-of-type {\n",
       "        vertical-align: middle;\n",
       "    }\n",
       "\n",
       "    .dataframe tbody tr th {\n",
       "        vertical-align: top;\n",
       "    }\n",
       "\n",
       "    .dataframe thead th {\n",
       "        text-align: right;\n",
       "    }\n",
       "</style>\n",
       "<table border=\"1\" class=\"dataframe\">\n",
       "  <thead>\n",
       "    <tr style=\"text-align: right;\">\n",
       "      <th></th>\n",
       "      <th>Unnamed: 0</th>\n",
       "      <th>userId</th>\n",
       "      <th>movieId</th>\n",
       "      <th>rating</th>\n",
       "      <th>date</th>\n",
       "      <th>title</th>\n",
       "      <th>genres</th>\n",
       "      <th>year_release</th>\n",
       "    </tr>\n",
       "  </thead>\n",
       "  <tbody>\n",
       "    <tr>\n",
       "      <th>0</th>\n",
       "      <td>0</td>\n",
       "      <td>1</td>\n",
       "      <td>1</td>\n",
       "      <td>4.0</td>\n",
       "      <td>2000-07-30 18:45:03</td>\n",
       "      <td>Toy Story (1995)</td>\n",
       "      <td>Adventure|Animation|Children|Comedy|Fantasy</td>\n",
       "      <td>1995.0</td>\n",
       "    </tr>\n",
       "    <tr>\n",
       "      <th>1</th>\n",
       "      <td>1</td>\n",
       "      <td>1</td>\n",
       "      <td>3</td>\n",
       "      <td>4.0</td>\n",
       "      <td>2000-07-30 18:20:47</td>\n",
       "      <td>Grumpier Old Men (1995)</td>\n",
       "      <td>Comedy|Romance</td>\n",
       "      <td>1995.0</td>\n",
       "    </tr>\n",
       "    <tr>\n",
       "      <th>2</th>\n",
       "      <td>2</td>\n",
       "      <td>1</td>\n",
       "      <td>6</td>\n",
       "      <td>4.0</td>\n",
       "      <td>2000-07-30 18:37:04</td>\n",
       "      <td>Heat (1995)</td>\n",
       "      <td>Action|Crime|Thriller</td>\n",
       "      <td>1995.0</td>\n",
       "    </tr>\n",
       "    <tr>\n",
       "      <th>3</th>\n",
       "      <td>3</td>\n",
       "      <td>1</td>\n",
       "      <td>47</td>\n",
       "      <td>5.0</td>\n",
       "      <td>2000-07-30 19:03:35</td>\n",
       "      <td>Seven (a.k.a. Se7en) (1995)</td>\n",
       "      <td>Mystery|Thriller</td>\n",
       "      <td>1995.0</td>\n",
       "    </tr>\n",
       "    <tr>\n",
       "      <th>4</th>\n",
       "      <td>4</td>\n",
       "      <td>1</td>\n",
       "      <td>50</td>\n",
       "      <td>5.0</td>\n",
       "      <td>2000-07-30 18:48:51</td>\n",
       "      <td>Usual Suspects, The (1995)</td>\n",
       "      <td>Crime|Mystery|Thriller</td>\n",
       "      <td>1995.0</td>\n",
       "    </tr>\n",
       "  </tbody>\n",
       "</table>\n",
       "</div>"
      ],
      "text/plain": [
       "   Unnamed: 0  userId  movieId  rating                 date  \\\n",
       "0           0       1        1     4.0  2000-07-30 18:45:03   \n",
       "1           1       1        3     4.0  2000-07-30 18:20:47   \n",
       "2           2       1        6     4.0  2000-07-30 18:37:04   \n",
       "3           3       1       47     5.0  2000-07-30 19:03:35   \n",
       "4           4       1       50     5.0  2000-07-30 18:48:51   \n",
       "\n",
       "                         title                                       genres  \\\n",
       "0             Toy Story (1995)  Adventure|Animation|Children|Comedy|Fantasy   \n",
       "1      Grumpier Old Men (1995)                               Comedy|Romance   \n",
       "2                  Heat (1995)                        Action|Crime|Thriller   \n",
       "3  Seven (a.k.a. Se7en) (1995)                             Mystery|Thriller   \n",
       "4   Usual Suspects, The (1995)                       Crime|Mystery|Thriller   \n",
       "\n",
       "   year_release  \n",
       "0        1995.0  \n",
       "1        1995.0  \n",
       "2        1995.0  \n",
       "3        1995.0  \n",
       "4        1995.0  "
      ]
     },
     "execution_count": 9,
     "metadata": {},
     "output_type": "execute_result"
    }
   ],
   "source": [
    "rate_mov.head()"
   ]
  },
  {
   "cell_type": "code",
   "execution_count": 12,
   "id": "e6d6074a-6d3f-4a6c-8699-d4578e4037dd",
   "metadata": {
    "tags": []
   },
   "outputs": [
    {
     "data": {
      "text/html": [
       "<div>\n",
       "<style scoped>\n",
       "    .dataframe tbody tr th:only-of-type {\n",
       "        vertical-align: middle;\n",
       "    }\n",
       "\n",
       "    .dataframe tbody tr th {\n",
       "        vertical-align: top;\n",
       "    }\n",
       "\n",
       "    .dataframe thead th {\n",
       "        text-align: right;\n",
       "    }\n",
       "</style>\n",
       "<table border=\"1\" class=\"dataframe\">\n",
       "  <thead>\n",
       "    <tr style=\"text-align: right;\">\n",
       "      <th></th>\n",
       "      <th>Unnamed: 0</th>\n",
       "      <th>userId</th>\n",
       "      <th>movieId</th>\n",
       "      <th>rating</th>\n",
       "      <th>date</th>\n",
       "      <th>title</th>\n",
       "      <th>genres</th>\n",
       "      <th>year_release</th>\n",
       "    </tr>\n",
       "  </thead>\n",
       "  <tbody>\n",
       "    <tr>\n",
       "      <th>0</th>\n",
       "      <td>0</td>\n",
       "      <td>1</td>\n",
       "      <td>1</td>\n",
       "      <td>4.0</td>\n",
       "      <td>2000-07-30 18:45:03</td>\n",
       "      <td>Toy Story (1995)</td>\n",
       "      <td>Adventure|Animation|Children|Comedy|Fantasy</td>\n",
       "      <td>1995.0</td>\n",
       "    </tr>\n",
       "    <tr>\n",
       "      <th>1</th>\n",
       "      <td>1</td>\n",
       "      <td>1</td>\n",
       "      <td>3</td>\n",
       "      <td>4.0</td>\n",
       "      <td>2000-07-30 18:20:47</td>\n",
       "      <td>Grumpier Old Men (1995)</td>\n",
       "      <td>Comedy|Romance</td>\n",
       "      <td>1995.0</td>\n",
       "    </tr>\n",
       "    <tr>\n",
       "      <th>2</th>\n",
       "      <td>2</td>\n",
       "      <td>1</td>\n",
       "      <td>6</td>\n",
       "      <td>4.0</td>\n",
       "      <td>2000-07-30 18:37:04</td>\n",
       "      <td>Heat (1995)</td>\n",
       "      <td>Action|Crime|Thriller</td>\n",
       "      <td>1995.0</td>\n",
       "    </tr>\n",
       "    <tr>\n",
       "      <th>3</th>\n",
       "      <td>3</td>\n",
       "      <td>1</td>\n",
       "      <td>47</td>\n",
       "      <td>5.0</td>\n",
       "      <td>2000-07-30 19:03:35</td>\n",
       "      <td>Seven (a.k.a. Se7en) (1995)</td>\n",
       "      <td>Mystery|Thriller</td>\n",
       "      <td>1995.0</td>\n",
       "    </tr>\n",
       "    <tr>\n",
       "      <th>4</th>\n",
       "      <td>4</td>\n",
       "      <td>1</td>\n",
       "      <td>50</td>\n",
       "      <td>5.0</td>\n",
       "      <td>2000-07-30 18:48:51</td>\n",
       "      <td>Usual Suspects, The (1995)</td>\n",
       "      <td>Crime|Mystery|Thriller</td>\n",
       "      <td>1995.0</td>\n",
       "    </tr>\n",
       "  </tbody>\n",
       "</table>\n",
       "</div>"
      ],
      "text/plain": [
       "   Unnamed: 0  userId  movieId  rating                 date  \\\n",
       "0           0       1        1     4.0  2000-07-30 18:45:03   \n",
       "1           1       1        3     4.0  2000-07-30 18:20:47   \n",
       "2           2       1        6     4.0  2000-07-30 18:37:04   \n",
       "3           3       1       47     5.0  2000-07-30 19:03:35   \n",
       "4           4       1       50     5.0  2000-07-30 18:48:51   \n",
       "\n",
       "                         title                                       genres  \\\n",
       "0             Toy Story (1995)  Adventure|Animation|Children|Comedy|Fantasy   \n",
       "1      Grumpier Old Men (1995)                               Comedy|Romance   \n",
       "2                  Heat (1995)                        Action|Crime|Thriller   \n",
       "3  Seven (a.k.a. Se7en) (1995)                             Mystery|Thriller   \n",
       "4   Usual Suspects, The (1995)                       Crime|Mystery|Thriller   \n",
       "\n",
       "  year_release  \n",
       "0       1995.0  \n",
       "1       1995.0  \n",
       "2       1995.0  \n",
       "3       1995.0  \n",
       "4       1995.0  "
      ]
     },
     "execution_count": 12,
     "metadata": {},
     "output_type": "execute_result"
    }
   ],
   "source": [
    "rate_mov['year_release'] = rate_mov['year_release'].astype('category')\n",
    "rate_mov.head()"
   ]
  },
  {
   "cell_type": "markdown",
   "id": "2746be39-fd12-494e-88c0-0cb0b4191738",
   "metadata": {},
   "source": [
    "## Какой фильм, выпущенный в 1999 году, получил наименьшую среднюю оценку зрителей?"
   ]
  },
  {
   "cell_type": "code",
   "execution_count": 24,
   "id": "2ad76920-cae3-4372-bb37-bca1b41175ca",
   "metadata": {},
   "outputs": [
    {
     "name": "stdout",
     "output_type": "stream",
     "text": [
      "        Unnamed: 0  userId  movieId  rating                 date  \\\n",
      "162            162       1     2502     5.0  2000-07-30 18:21:18   \n",
      "166            166       1     2571     5.0  2000-07-30 18:31:28   \n",
      "167            167       1     2580     5.0  2000-07-30 18:50:00   \n",
      "170            170       1     2617     2.0  2000-07-30 18:43:08   \n",
      "171            171       1     2628     4.0  2000-07-30 18:08:43   \n",
      "...            ...     ...      ...     ...                  ...   \n",
      "100090      100090     610    27317     4.0  2016-11-19 08:48:51   \n",
      "100169      100169     610    41712     4.0  2016-11-19 08:53:53   \n",
      "100677      100677     610   110281     4.0  2016-11-19 08:00:36   \n",
      "100797      100797     610   145951     0.5  2017-05-03 22:03:39   \n",
      "100815      100815     610   158721     3.5  2016-11-19 08:01:31   \n",
      "\n",
      "                                                   title  \\\n",
      "162                                  Office Space (1999)   \n",
      "166                                   Matrix, The (1999)   \n",
      "167                                            Go (1999)   \n",
      "170                                    Mummy, The (1999)   \n",
      "171     Star Wars: Episode I - The Phantom Menace (1999)   \n",
      "...                                                  ...   \n",
      "100090                         Audition (Ôdishon) (1999)   \n",
      "100169                    Room for Romeo Brass, A (1999)   \n",
      "100677           King of Comedy (Hei kek ji wong) (1999)   \n",
      "100797                Bloodsport: The Dark Kumite (1999)   \n",
      "100815                                 Gen-X Cops (1999)   \n",
      "\n",
      "                                                 genres  year_release  \n",
      "162                                        Comedy|Crime        1999.0  \n",
      "166                              Action|Sci-Fi|Thriller        1999.0  \n",
      "167                                        Comedy|Crime        1999.0  \n",
      "170     Action|Adventure|Comedy|Fantasy|Horror|Thriller        1999.0  \n",
      "171                             Action|Adventure|Sci-Fi        1999.0  \n",
      "...                                                 ...           ...  \n",
      "100090            Drama|Horror|Mystery|Romance|Thriller        1999.0  \n",
      "100169                                     Comedy|Drama        1999.0  \n",
      "100677                             Comedy|Drama|Romance        1999.0  \n",
      "100797                                  Action|Thriller        1999.0  \n",
      "100815                           Action|Comedy|Thriller        1999.0  \n",
      "\n",
      "[4536 rows x 8 columns]\n"
     ]
    }
   ],
   "source": [
    "mask1 = rate_mov['year_release'] == 1999\n",
    "rate_mov_trans = rate_mov[mask1]\n",
    "print(rate_mov_trans)"
   ]
  },
  {
   "cell_type": "code",
   "execution_count": 43,
   "id": "977332e8-1739-4e2d-af23-5a183350a4f0",
   "metadata": {},
   "outputs": [
    {
     "data": {
      "text/plain": [
       "title\n",
       "Bloodsport: The Dark Kumite (1999)    0.5\n",
       "Simon Sez (1999)                      1.0\n",
       "Chill Factor (1999)                   1.0\n",
       "Source, The (1999)                    1.0\n",
       "Trippin' (1999)                       1.0\n",
       "Name: rating, dtype: float64"
      ]
     },
     "execution_count": 43,
     "metadata": {},
     "output_type": "execute_result"
    }
   ],
   "source": [
    "rate_mov_trans.groupby('title')['rating'].mean().sort_values(ascending=True).head()\n",
    "#Bloodsport: The Dark Kumite"
   ]
  },
  {
   "cell_type": "markdown",
   "id": "63de264d-dcab-4615-b929-94f9579388a2",
   "metadata": {},
   "source": [
    "## Какое сочетание жанров фильмов (genres), выпущенных в 2010 году, получило наименьшую среднюю оценку (rating)?"
   ]
  },
  {
   "cell_type": "code",
   "execution_count": 44,
   "id": "eb8c915f-771a-4849-b0db-6699ddc80c27",
   "metadata": {},
   "outputs": [
    {
     "name": "stdout",
     "output_type": "stream",
     "text": [
      "        Unnamed: 0  userId  movieId  rating                 date  \\\n",
      "244            244       2    74458     4.0  2015-10-24 19:28:46   \n",
      "245            245       2    77455     3.0  2015-10-24 19:29:01   \n",
      "246            246       2    79132     4.0  2015-10-24 19:27:21   \n",
      "247            247       2    80489     4.5  2015-10-24 19:35:40   \n",
      "248            248       2    80906     5.0  2015-10-24 19:32:52   \n",
      "...            ...     ...      ...     ...                  ...   \n",
      "100521      100521     610    89028     3.5  2017-05-03 21:56:46   \n",
      "100522      100522     610    89072     4.0  2017-05-03 21:55:45   \n",
      "100524      100524     610    89281     3.5  2017-05-03 22:02:14   \n",
      "100525      100525     610    89582     4.5  2016-11-19 08:50:03   \n",
      "100548      100548     610    93193     3.0  2017-05-03 22:20:13   \n",
      "\n",
      "                                        title  \\\n",
      "244                     Shutter Island (2010)   \n",
      "245         Exit Through the Gift Shop (2010)   \n",
      "246                          Inception (2010)   \n",
      "247                          Town, The (2010)   \n",
      "248                         Inside Job (2010)   \n",
      "...                                       ...   \n",
      "100521     Don't Be Afraid of the Dark (2010)   \n",
      "100522                      Stake Land (2010)   \n",
      "100524      Birdemic: Shock and Terror (2010)   \n",
      "100525  Cold Fish (Tsumetai nettaigyo) (2010)   \n",
      "100548                        Red Hill (2010)   \n",
      "\n",
      "                                                 genres  year_release  \n",
      "244                              Drama|Mystery|Thriller        2010.0  \n",
      "245                                  Comedy|Documentary        2010.0  \n",
      "246     Action|Crime|Drama|Mystery|Sci-Fi|Thriller|IMAX        2010.0  \n",
      "247                                Crime|Drama|Thriller        2010.0  \n",
      "248                                         Documentary        2010.0  \n",
      "...                                                 ...           ...  \n",
      "100521                                  Horror|Thriller        2010.0  \n",
      "100522                                           Horror        2010.0  \n",
      "100524                                 Romance|Thriller        2010.0  \n",
      "100525                                   Drama|Thriller        2010.0  \n",
      "100548                           Crime|Thriller|Western        2010.0  \n",
      "\n",
      "[1715 rows x 8 columns]\n"
     ]
    }
   ],
   "source": [
    "mask2 = rate_mov['year_release'] == 2010\n",
    "rate_mov_trans_1 = rate_mov[mask2]\n",
    "print(rate_mov_trans_1)"
   ]
  },
  {
   "cell_type": "code",
   "execution_count": 45,
   "id": "cb93b506-973e-41c5-983c-a0a66b545188",
   "metadata": {},
   "outputs": [
    {
     "data": {
      "text/plain": [
       "genres\n",
       "Action|Sci-Fi               1.000000\n",
       "Action|Adventure|Horror     1.500000\n",
       "Action|Drama|Fantasy        1.500000\n",
       "Crime|Romance               1.500000\n",
       "Adventure|Comedy|Fantasy    1.833333\n",
       "Name: rating, dtype: float64"
      ]
     },
     "execution_count": 45,
     "metadata": {},
     "output_type": "execute_result"
    }
   ],
   "source": [
    "rate_mov_trans_1.groupby('genres')['rating'].mean().sort_values(ascending=True).head()\n",
    "#Action|Sci-Fi "
   ]
  },
  {
   "cell_type": "markdown",
   "id": "7a4e9c3a-3610-474d-b427-6934b3465481",
   "metadata": {},
   "source": [
    "## Какой пользователь (userId) посмотрел наибольшее количество различных (уникальных) комбинаций жанров (genres) фильмов? В качестве ответа запишите идентификатор этого пользователя."
   ]
  },
  {
   "cell_type": "code",
   "execution_count": 46,
   "id": "2c871c4a-c1c1-47c3-9da5-b950555be927",
   "metadata": {},
   "outputs": [
    {
     "data": {
      "text/html": [
       "<div>\n",
       "<style scoped>\n",
       "    .dataframe tbody tr th:only-of-type {\n",
       "        vertical-align: middle;\n",
       "    }\n",
       "\n",
       "    .dataframe tbody tr th {\n",
       "        vertical-align: top;\n",
       "    }\n",
       "\n",
       "    .dataframe thead th {\n",
       "        text-align: right;\n",
       "    }\n",
       "</style>\n",
       "<table border=\"1\" class=\"dataframe\">\n",
       "  <thead>\n",
       "    <tr style=\"text-align: right;\">\n",
       "      <th></th>\n",
       "      <th>nunique</th>\n",
       "    </tr>\n",
       "    <tr>\n",
       "      <th>userId</th>\n",
       "      <th></th>\n",
       "    </tr>\n",
       "  </thead>\n",
       "  <tbody>\n",
       "    <tr>\n",
       "      <th>599</th>\n",
       "      <td>524</td>\n",
       "    </tr>\n",
       "    <tr>\n",
       "      <th>414</th>\n",
       "      <td>482</td>\n",
       "    </tr>\n",
       "    <tr>\n",
       "      <th>448</th>\n",
       "      <td>403</td>\n",
       "    </tr>\n",
       "    <tr>\n",
       "      <th>380</th>\n",
       "      <td>399</td>\n",
       "    </tr>\n",
       "    <tr>\n",
       "      <th>474</th>\n",
       "      <td>395</td>\n",
       "    </tr>\n",
       "    <tr>\n",
       "      <th>...</th>\n",
       "      <td>...</td>\n",
       "    </tr>\n",
       "    <tr>\n",
       "      <th>578</th>\n",
       "      <td>15</td>\n",
       "    </tr>\n",
       "    <tr>\n",
       "      <th>12</th>\n",
       "      <td>15</td>\n",
       "    </tr>\n",
       "    <tr>\n",
       "      <th>85</th>\n",
       "      <td>13</td>\n",
       "    </tr>\n",
       "    <tr>\n",
       "      <th>214</th>\n",
       "      <td>13</td>\n",
       "    </tr>\n",
       "    <tr>\n",
       "      <th>245</th>\n",
       "      <td>13</td>\n",
       "    </tr>\n",
       "  </tbody>\n",
       "</table>\n",
       "<p>610 rows × 1 columns</p>\n",
       "</div>"
      ],
      "text/plain": [
       "        nunique\n",
       "userId         \n",
       "599         524\n",
       "414         482\n",
       "448         403\n",
       "380         399\n",
       "474         395\n",
       "...         ...\n",
       "578          15\n",
       "12           15\n",
       "85           13\n",
       "214          13\n",
       "245          13\n",
       "\n",
       "[610 rows x 1 columns]"
      ]
     },
     "execution_count": 46,
     "metadata": {},
     "output_type": "execute_result"
    }
   ],
   "source": [
    "rate_mov.groupby('userId')['genres'].agg(['nunique']).sort_values(by='nunique', ascending=False)\n",
    "# 599"
   ]
  },
  {
   "cell_type": "markdown",
   "id": "81e0daaf-a411-46a0-ba50-9a4c54fa814e",
   "metadata": {},
   "source": [
    "## Найдите пользователя, который выставил наименьшее количество оценок, но его средняя оценка фильмам наибольшая"
   ]
  },
  {
   "cell_type": "code",
   "execution_count": 56,
   "id": "a9a57b13-1c39-436b-98de-83e24c576689",
   "metadata": {},
   "outputs": [
    {
     "name": "stdout",
     "output_type": "stream",
     "text": [
      "        count      mean\n",
      "userId                 \n",
      "442        20  1.275000\n",
      "406        20  3.250000\n",
      "147        20  3.375000\n",
      "194        20  3.475000\n",
      "569        20  4.000000\n",
      "...       ...       ...\n",
      "274      1346  3.235884\n",
      "448      1864  2.847371\n",
      "474      2108  3.398956\n",
      "599      2478  2.642050\n",
      "414      2698  3.391957\n",
      "\n",
      "[610 rows x 2 columns]\n"
     ]
    }
   ],
   "source": [
    "rate_mov_1 = rate_mov.groupby('userId')['rating'].agg(['count', 'mean']).sort_values(by='count', ascending=True)\n",
    "print(rate_mov_1)"
   ]
  },
  {
   "cell_type": "code",
   "execution_count": 60,
   "id": "e025b54e-48a4-48ef-811e-5cc6c5952be8",
   "metadata": {},
   "outputs": [
    {
     "name": "stdout",
     "output_type": "stream",
     "text": [
      "        count      mean\n",
      "userId                 \n",
      "53         20  5.000000\n",
      "251        23  4.869565\n",
      "515        26  4.846154\n",
      "25         26  4.807692\n",
      "30         34  4.735294\n",
      "...       ...       ...\n",
      "567       385  2.245455\n",
      "153       179  2.217877\n",
      "508        24  2.145833\n",
      "139       194  2.144330\n",
      "442        20  1.275000\n",
      "\n",
      "[610 rows x 2 columns]\n"
     ]
    }
   ],
   "source": [
    "rate_mov_2 = rate_mov_1.sort_values(by='mean', ascending=False)\n",
    "print(rate_mov_2)\n",
    "#53"
   ]
  },
  {
   "cell_type": "markdown",
   "id": "e0670c22-68df-4f90-b202-d912ccb591dc",
   "metadata": {},
   "source": [
    "## Найдите сочетание жанров (genres) за 2018 году, которое имеет наибольший средний рейтинг (среднее по столбцу rating), и при этом число выставленных ему оценок (количество значений в столбце rating) больше 10"
   ]
  },
  {
   "cell_type": "code",
   "execution_count": 61,
   "id": "bf0c2c43-1b55-460a-814d-da49f6d14224",
   "metadata": {},
   "outputs": [
    {
     "name": "stdout",
     "output_type": "stream",
     "text": [
      "       Unnamed: 0  userId  movieId  rating                 date  \\\n",
      "4031         4031      25   122912     5.0  2018-08-28 15:34:21   \n",
      "4036         4036      25   187541     4.0  2018-08-28 15:34:32   \n",
      "4037         4037      25   187593     5.0  2018-08-28 15:35:34   \n",
      "7420         7420      50   188301     3.0  2018-08-03 13:17:57   \n",
      "7421         7421      50   190183     3.5  2018-08-03 13:13:41   \n",
      "...           ...     ...      ...     ...                  ...   \n",
      "90255       90255     586   187595     5.0  2018-06-25 04:05:56   \n",
      "92108       92108     596   122912     4.0  2018-08-30 11:06:55   \n",
      "92156       92156     596   183635     3.5  2018-08-31 09:59:53   \n",
      "92157       92157     596   184997     4.0  2018-09-01 19:03:49   \n",
      "92158       92158     596   188301     4.0  2018-08-31 09:57:48   \n",
      "\n",
      "                                        title  \\\n",
      "4031   Avengers: Infinity War - Part I (2018)   \n",
      "4036                     Incredibles 2 (2018)   \n",
      "4037                        Deadpool 2 (2018)   \n",
      "7420              Ant-Man and the Wasp (2018)   \n",
      "7421                 The Darkest Minds (2018)   \n",
      "...                                       ...   \n",
      "90255          Solo: A Star Wars Story (2018)   \n",
      "92108  Avengers: Infinity War - Part I (2018)   \n",
      "92156      Maze Runner: The Death Cure (2018)   \n",
      "92157                      Love, Simon (2018)   \n",
      "92158             Ant-Man and the Wasp (2018)   \n",
      "\n",
      "                                       genres  year_release  \n",
      "4031                  Action|Adventure|Sci-Fi        2018.0  \n",
      "4036      Action|Adventure|Animation|Children        2018.0  \n",
      "4037                     Action|Comedy|Sci-Fi        2018.0  \n",
      "7420   Action|Adventure|Comedy|Fantasy|Sci-Fi        2018.0  \n",
      "7421                          Sci-Fi|Thriller        2018.0  \n",
      "...                                       ...           ...  \n",
      "90255        Action|Adventure|Children|Sci-Fi        2018.0  \n",
      "92108                 Action|Adventure|Sci-Fi        2018.0  \n",
      "92156          Action|Mystery|Sci-Fi|Thriller        2018.0  \n",
      "92157                            Comedy|Drama        2018.0  \n",
      "92158  Action|Adventure|Comedy|Fantasy|Sci-Fi        2018.0  \n",
      "\n",
      "[91 rows x 8 columns]\n"
     ]
    }
   ],
   "source": [
    "mask3 = rate_mov['year_release'] == 2018\n",
    "rate_mov_trans_2 = rate_mov[mask3]\n",
    "print(rate_mov_trans_2)"
   ]
  },
  {
   "cell_type": "code",
   "execution_count": 63,
   "id": "7eaea4d0-b15e-4669-89df-23c67d05f80e",
   "metadata": {},
   "outputs": [
    {
     "name": "stdout",
     "output_type": "stream",
     "text": [
      "                                        count      mean\n",
      "genres                                                 \n",
      "Action|Adventure|Animation|Children         4  3.000000\n",
      "Action|Adventure|Children|Sci-Fi            5  3.900000\n",
      "Action|Adventure|Comedy|Fantasy|Sci-Fi      3  3.666667\n",
      "Action|Adventure|Drama|Sci-Fi|Thriller      2  3.250000\n",
      "Action|Adventure|Fantasy                    4  2.500000\n",
      "Action|Adventure|Sci-Fi                    14  3.928571\n",
      "Action|Adventure|Thriller                   2  3.750000\n",
      "Action|Animation                            1  3.500000\n",
      "Action|Comedy                               1  3.000000\n",
      "Action|Comedy|Crime|Horror                  1  4.000000\n",
      "Action|Comedy|Sci-Fi                       12  3.875000\n",
      "Action|Crime|Drama|Thriller                 1  4.000000\n",
      "Action|Crime|Thriller                       1  2.500000\n",
      "Action|Fantasy|Sci-Fi                       2  2.750000\n",
      "Action|Mystery|Sci-Fi|Thriller              1  3.500000\n",
      "Adventure|Children|Fantasy|Sci-Fi           1  3.000000\n",
      "Adventure|Comedy|Fantasy                    1  4.500000\n",
      "Adventure|Mystery|Sci-Fi|Thriller           3  3.833333\n",
      "Adventure|Thriller                          1  4.500000\n",
      "Animation|Comedy                            5  3.500000\n",
      "Comedy                                      8  3.312500\n",
      "Comedy|Crime|Drama                          1  2.500000\n",
      "Comedy|Drama                                2  3.250000\n",
      "Comedy|Fantasy|Sci-Fi                       1  4.500000\n",
      "Comedy|Romance                              1  4.500000\n",
      "Crime|Drama                                 1  3.500000\n",
      "Crime|Drama|Mystery|Thriller                1  1.500000\n",
      "Documentary                                 2  4.000000\n",
      "Drama|Fantasy|Thriller                      1  2.000000\n",
      "Drama|Horror|Thriller                       4  2.750000\n",
      "Horror|Mystery|Sci-Fi|Thriller              2  2.250000\n",
      "Horror|Mystery|Thriller                     1  3.500000\n",
      "Sci-Fi|Thriller                             1  3.500000\n"
     ]
    }
   ],
   "source": [
    "new_rate_table = rate_mov_trans_2.groupby('genres')['rating'].agg(['count', 'mean'])\n",
    "print(new_rate_table)"
   ]
  },
  {
   "cell_type": "code",
   "execution_count": 67,
   "id": "c2f2c7b3-81c6-4c46-8d85-69738d70132d",
   "metadata": {},
   "outputs": [
    {
     "name": "stdout",
     "output_type": "stream",
     "text": [
      "                         count      mean\n",
      "genres                                  \n",
      "Action|Adventure|Sci-Fi     14  3.928571\n",
      "Action|Comedy|Sci-Fi        12  3.875000\n"
     ]
    }
   ],
   "source": [
    "mask_1 = new_rate_table['count'] > 10\n",
    "rate_mov_trans_n = new_rate_table[mask_1]\n",
    "print(rate_mov_trans_n)\n",
    "#Action|Adventure|Sci-Fi"
   ]
  },
  {
   "cell_type": "code",
   "execution_count": null,
   "id": "31600ae5-b8f0-4b9b-9cc3-900b95b0c065",
   "metadata": {},
   "outputs": [],
   "source": []
  }
 ],
 "metadata": {
  "kernelspec": {
   "display_name": "Python 3 (ipykernel)",
   "language": "python",
   "name": "python3"
  },
  "language_info": {
   "codemirror_mode": {
    "name": "ipython",
    "version": 3
   },
   "file_extension": ".py",
   "mimetype": "text/x-python",
   "name": "python",
   "nbconvert_exporter": "python",
   "pygments_lexer": "ipython3",
   "version": "3.9.12"
  }
 },
 "nbformat": 4,
 "nbformat_minor": 5
}
