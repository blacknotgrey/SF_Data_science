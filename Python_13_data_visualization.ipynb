{
 "cells": [
  {
   "cell_type": "markdown",
   "id": "4d729f30-53dc-49ce-9615-8cd71a9b74ce",
   "metadata": {},
   "source": [
    "# ОСНОВНЫЕ ТИПЫ ВИЗУАЛИЗАЦИИ\n",
    "\n",
    "линейный график;\n",
    "гистограмма;\n",
    "диаграмма рассеяния;\n",
    "коробчатая диаграмма;\n",
    "круговая диаграмма;\n",
    "столбчатая диаграмма;\n",
    "тепловая карта."
   ]
  },
  {
   "cell_type": "markdown",
   "id": "dcf542dd-b1f9-4991-883c-fbd16dafd4bf",
   "metadata": {},
   "source": [
    "## ЛИНЕЙНЫЙ ГРАФИК (LINEPLOT)\n",
    "\n",
    "Это самый простой тип графика. Вы, несомненно, рисовали такие на уроках математики в школе.\n",
    "\n",
    "Линейный график представляет собой последовательность точек, соединённых линией. Каждая точка — это пара координат x и y, которые отображены по осям абсцисс и ординат (в двумерном случае). \n",
    "\n",
    "На практике, в Data Science такие графики чаще всего используются для визуализации временных рядов, например чтобы отследить динамику продаж во времени, число активных пользователей по дням, изменение курса валют и акций.\n",
    "\n",
    "График бывает особенно полезен, когда вы пытаетесь спрогнозировать ряд и вам необходимо увидеть свой прогноз на графике и сравнить его с действительностью.\n",
    "\n",
    "Несмотря на свою простоту, при правильном применении линейный график может быть очень информативным и полезным: он позволяет выявить тенденцию движения показателя и найти ключевые точки его роста или падения.\n",
    "\n",
    "## ГИСТОГРАММА (HISTOGRAM)\n",
    "\n",
    "Гистограмма — это способ визуализации частоты попадания признака в некоторый численный интервал. Гистограмма состоит из прямоугольников, расположенных вдоль оси x.\n",
    "\n",
    "Ось разбита на интервалы, их ещё называют корзинами (bins), их число задаётся пользователем. Ширина интервалов одинакова и задаёт ширину прямоугольника.\n",
    "\n",
    "По оси y откладывается высота прямоугольника — количество наблюдений, которые попали в интервал. Чем выше столбик, тем больше наблюдений находятся в интервале.\n",
    "\n",
    "Гистограммы часто используются для оценки распределения числового признака, например мы можем понять, как распределены цены на товары, число шагов, которые делает пользователь умных часов, масса метеоритов, падающих на землю.\n",
    "\n",
    "## ДИАГРАММА РАССЕЯНИЯ (SCATTERPLOT)\n",
    "\n",
    "Другое название этого графика — точечная диаграмма.\n",
    "\n",
    "График представляет собой облака точек: по оси абсцисс откладывается одна числовая переменная, по оси ординат — вторая, а каждая точка на графике — это запись из таблицы.\n",
    "\n",
    "Диаграммы рассеяния являются стандартным средством визуализации связи между двумя числовыми переменными. Однако через настройки графика в исследование зависимости можно добавить и несколько категориальных переменных.\n",
    "\n",
    "Диаграммы рассеяния являются мощным инструментом, который очень широко используется в Data Science. С их помощью мы можем увидеть, как зависит (или не зависит) давление от возраста пациента, объём продаж товаров от количества показанной рекламы и т. д.\n",
    "\n",
    "Оценив взаимосвязь признаков, мы можем принять решение об использовании какого-то из признаков для предсказания.\n",
    "\n",
    "## КРУГОВАЯ ДИАГРАММА (PIE CHART)\n",
    "\n",
    "Синонимичные названия диаграммы — пироговая диаграмма и секторная диаграмма.\n",
    "\n",
    "Круговая диаграмма представляет собой круг, разделённый на секторы. Весь круг составляет 100 %. Каждый из секторов отображает долю одной из категорий в данных, размер сектора соответствует части целого от круга.\n",
    "\n",
    "Диаграмма является способом визуализации для категориального признака: например, можно визуализировать и сравнивать доли от выручки, которые делает каждый продавец. \n",
    "\n",
    "Круговые диаграммы наглядны, когда нужно показать, как делится на части что-либо целое: например, так можно визуализировать вклад каждого из продавцов в выручку магазина. Однако круговые диаграммы неудобны, когда рассматривается больше одного признака — в этом случае приходится добавлять отдельную диаграмму. Из-за большей информативности столбчатых диаграмм специалисты склонны выбирать именно их.\n",
    "\n",
    "## СТОЛБЧАТАЯ ДИАГРАММА (BAR CHART)\n",
    "\n",
    "Столбчатая диаграмма также максимально проста: по оси x откладывается некоторый категориальный признак, для каждой категории которого рассчитан некоторый показатель (средняя цена товаров, медианная стоимость нефти, максимальная зафиксированная концентрация газа). Высота столбца и есть значение этого показателя. \n",
    "\n",
    "Основное применение столбчатых диаграмм в Data Science — сравнение категорий друг с другом. Например, сравнение ресторанов по суммарной прибыли, сравнение средних расходов пользователей, сравнение медианной стоимости квартир по районам и т. д.\n",
    "\n",
    "Преимущество столбчатых диаграмм над круговыми в том, что в столбчатые диаграммы можно добавлять разделение по другим категориальным признакам и рассматривать совместное распределение показателей, тем самым повышая информативность. Такие диаграммы называются многоуровневыми.\n",
    "\n",
    "## ТЕПЛОВАЯ КАРТА (HEATMAP)\n",
    "\n",
    "Тепловая карта — это графическое представление некоторой таблицы, где значения в ячейках выделяются определённым цветом или интенсивностью цвета. Таблицей может быть как DataFrame, так и, например, изображение.\n",
    "\n",
    "Способы применения тепловых карт разнообразны: от визуализации категорий объектов на изображениях до графического представления матриц.\n",
    "\n",
    "При исследовании табличных данных тепловые карты чаще всего применяются для визуализации сводных таблиц.\n",
    "\n",
    "## КОРОБЧАТАЯ ДИАГРАММА (BOXPLOT, BOX AND WHISKER PLOT)\n",
    "\n",
    "Синонимичные названия диаграммы — ящик с усами и диаграмма размаха.\n",
    "\n",
    "Коробчатые диаграммы, которые были введены в употребление Джоном Тьюки в 1977 году, являются новым типом диаграмм для исследования распределения числового признака по отношению к предыдущим. Диаграмма основана на понятии квантилей.\n",
    "\n",
    "Приведём общую схему построения диаграммы:\n",
    "\n",
    "Img\n",
    "\n",
    "Для построения коробчатой диаграммы надо знать три характеристики:\n",
    "\n",
    " — 25 % квантиль;\n",
    " — 50 % квантиль, или медиана;\n",
    " — 75 % квантиль.\n",
    "Основные составляющие графика:\n",
    "\n",
    "1\n",
    "Ящик, или коробка. Левая граница коробки соответствует значению , правая — , а линия внутри коробки — медиане. Ширина ящика называется межквартильным размахом (Interquartile range) и вычисляется как .\n",
    "\n",
    "2\n",
    "Усы ящика, длина которых равна . Крайние точки усов часто обозначаются в литературе как min и max и называются границами распределения. Фактически эти точки не всегда являются истинными минимумом и максимумом признака.\n",
    "\n",
    "3\n",
    "Потенциальные выбросы — точки, лежащие за пределами границ.\n",
    "\n",
    "Согласно теории Тьюки, эти точки следует считать аномалиями и они подлежат исключению из данных. Однако на практике так бывает не всегда, и необходимо проводить дополнительное исследование. Об этом мы будем говорить подробнее в модуле по очистке данных.\n",
    "\n",
    "Коробчатые диаграммы часто используются для поиска потенциальных выбросов в данных, а также для сравнения показателей нескольких распределений друг с другом: например, можно визуально сравнить медианные стоимости товаров разных магазинов или размах цен на квартиры в районах Москвы (размеры ящиков).\n",
    "\n",
    "Коробчатые диаграммы часто являются более совершенными аналогами гистограмм."
   ]
  },
  {
   "cell_type": "markdown",
   "id": "0dd70fb4-efe8-4a68-ab94-763aa01e2ad2",
   "metadata": {},
   "source": [
    "# Знакомимся с новыми данными: коронавирус"
   ]
  },
  {
   "cell_type": "code",
   "execution_count": 30,
   "id": "3cb79118-52da-460d-b638-e1d8334d1a45",
   "metadata": {},
   "outputs": [],
   "source": [
    "import pandas as pd"
   ]
  },
  {
   "cell_type": "code",
   "execution_count": 31,
   "id": "d12df30b-e705-4e54-86e9-bb9912db949b",
   "metadata": {},
   "outputs": [
    {
     "data": {
      "text/html": [
       "<div>\n",
       "<style scoped>\n",
       "    .dataframe tbody tr th:only-of-type {\n",
       "        vertical-align: middle;\n",
       "    }\n",
       "\n",
       "    .dataframe tbody tr th {\n",
       "        vertical-align: top;\n",
       "    }\n",
       "\n",
       "    .dataframe thead th {\n",
       "        text-align: right;\n",
       "    }\n",
       "</style>\n",
       "<table border=\"1\" class=\"dataframe\">\n",
       "  <thead>\n",
       "    <tr style=\"text-align: right;\">\n",
       "      <th></th>\n",
       "      <th>date</th>\n",
       "      <th>province/state</th>\n",
       "      <th>country</th>\n",
       "      <th>confirmed</th>\n",
       "      <th>deaths</th>\n",
       "      <th>recovered</th>\n",
       "    </tr>\n",
       "  </thead>\n",
       "  <tbody>\n",
       "    <tr>\n",
       "      <th>0</th>\n",
       "      <td>01/22/2020</td>\n",
       "      <td>Anhui</td>\n",
       "      <td>China</td>\n",
       "      <td>1.0</td>\n",
       "      <td>0.0</td>\n",
       "      <td>0.0</td>\n",
       "    </tr>\n",
       "    <tr>\n",
       "      <th>1</th>\n",
       "      <td>01/22/2020</td>\n",
       "      <td>Beijing</td>\n",
       "      <td>China</td>\n",
       "      <td>14.0</td>\n",
       "      <td>0.0</td>\n",
       "      <td>0.0</td>\n",
       "    </tr>\n",
       "    <tr>\n",
       "      <th>2</th>\n",
       "      <td>01/22/2020</td>\n",
       "      <td>Chongqing</td>\n",
       "      <td>China</td>\n",
       "      <td>6.0</td>\n",
       "      <td>0.0</td>\n",
       "      <td>0.0</td>\n",
       "    </tr>\n",
       "    <tr>\n",
       "      <th>3</th>\n",
       "      <td>01/22/2020</td>\n",
       "      <td>Fujian</td>\n",
       "      <td>China</td>\n",
       "      <td>1.0</td>\n",
       "      <td>0.0</td>\n",
       "      <td>0.0</td>\n",
       "    </tr>\n",
       "    <tr>\n",
       "      <th>4</th>\n",
       "      <td>01/22/2020</td>\n",
       "      <td>Gansu</td>\n",
       "      <td>China</td>\n",
       "      <td>0.0</td>\n",
       "      <td>0.0</td>\n",
       "      <td>0.0</td>\n",
       "    </tr>\n",
       "  </tbody>\n",
       "</table>\n",
       "</div>"
      ],
      "text/plain": [
       "         date province/state country  confirmed  deaths  recovered\n",
       "0  01/22/2020          Anhui   China        1.0     0.0        0.0\n",
       "1  01/22/2020        Beijing   China       14.0     0.0        0.0\n",
       "2  01/22/2020      Chongqing   China        6.0     0.0        0.0\n",
       "3  01/22/2020         Fujian   China        1.0     0.0        0.0\n",
       "4  01/22/2020          Gansu   China        0.0     0.0        0.0"
      ]
     },
     "metadata": {},
     "output_type": "display_data"
    }
   ],
   "source": [
    "covid_data = pd.read_csv('data/covid_data.csv')\n",
    "display(covid_data.head())"
   ]
  },
  {
   "cell_type": "markdown",
   "id": "ed4d0950-82d0-4a95-b80a-36da8f6aabef",
   "metadata": {},
   "source": [
    "## Мы будем работать со следующими столбцами:\n",
    "\n",
    "date — дата наблюдения;\n",
    "province/state — наименование провинции/штата;\n",
    "country — наименование страны;\n",
    "confirmed — общее число зафиксированных случаев на указанный день;\n",
    "deaths — общее число зафиксированных смертей на указанный день;\n",
    "recovered — общее число выздоровлений на указанный день."
   ]
  },
  {
   "cell_type": "code",
   "execution_count": 33,
   "id": "0326890e-9396-4987-8c89-e99e219a0b37",
   "metadata": {},
   "outputs": [
    {
     "data": {
      "text/html": [
       "<div>\n",
       "<style scoped>\n",
       "    .dataframe tbody tr th:only-of-type {\n",
       "        vertical-align: middle;\n",
       "    }\n",
       "\n",
       "    .dataframe tbody tr th {\n",
       "        vertical-align: top;\n",
       "    }\n",
       "\n",
       "    .dataframe thead th {\n",
       "        text-align: right;\n",
       "    }\n",
       "</style>\n",
       "<table border=\"1\" class=\"dataframe\">\n",
       "  <thead>\n",
       "    <tr style=\"text-align: right;\">\n",
       "      <th></th>\n",
       "      <th>country</th>\n",
       "      <th>date</th>\n",
       "      <th>total_vaccinations</th>\n",
       "      <th>people_vaccinated</th>\n",
       "      <th>people_vaccinated_per_hundred</th>\n",
       "      <th>people_fully_vaccinated</th>\n",
       "      <th>people_fully_vaccinated_per_hundred</th>\n",
       "      <th>daily_vaccinations</th>\n",
       "      <th>vaccines</th>\n",
       "    </tr>\n",
       "  </thead>\n",
       "  <tbody>\n",
       "    <tr>\n",
       "      <th>0</th>\n",
       "      <td>Afghanistan</td>\n",
       "      <td>2021-02-22</td>\n",
       "      <td>0.0</td>\n",
       "      <td>0.0</td>\n",
       "      <td>0.00</td>\n",
       "      <td>NaN</td>\n",
       "      <td>NaN</td>\n",
       "      <td>NaN</td>\n",
       "      <td>Johnson&amp;Johnson, Oxford/AstraZeneca, Pfizer/Bi...</td>\n",
       "    </tr>\n",
       "    <tr>\n",
       "      <th>1</th>\n",
       "      <td>Afghanistan</td>\n",
       "      <td>2021-02-23</td>\n",
       "      <td>NaN</td>\n",
       "      <td>NaN</td>\n",
       "      <td>NaN</td>\n",
       "      <td>NaN</td>\n",
       "      <td>NaN</td>\n",
       "      <td>1367.0</td>\n",
       "      <td>Johnson&amp;Johnson, Oxford/AstraZeneca, Pfizer/Bi...</td>\n",
       "    </tr>\n",
       "    <tr>\n",
       "      <th>2</th>\n",
       "      <td>Afghanistan</td>\n",
       "      <td>2021-02-24</td>\n",
       "      <td>NaN</td>\n",
       "      <td>NaN</td>\n",
       "      <td>NaN</td>\n",
       "      <td>NaN</td>\n",
       "      <td>NaN</td>\n",
       "      <td>1367.0</td>\n",
       "      <td>Johnson&amp;Johnson, Oxford/AstraZeneca, Pfizer/Bi...</td>\n",
       "    </tr>\n",
       "    <tr>\n",
       "      <th>3</th>\n",
       "      <td>Afghanistan</td>\n",
       "      <td>2021-02-25</td>\n",
       "      <td>NaN</td>\n",
       "      <td>NaN</td>\n",
       "      <td>NaN</td>\n",
       "      <td>NaN</td>\n",
       "      <td>NaN</td>\n",
       "      <td>1367.0</td>\n",
       "      <td>Johnson&amp;Johnson, Oxford/AstraZeneca, Pfizer/Bi...</td>\n",
       "    </tr>\n",
       "    <tr>\n",
       "      <th>4</th>\n",
       "      <td>Afghanistan</td>\n",
       "      <td>2021-02-26</td>\n",
       "      <td>NaN</td>\n",
       "      <td>NaN</td>\n",
       "      <td>NaN</td>\n",
       "      <td>NaN</td>\n",
       "      <td>NaN</td>\n",
       "      <td>1367.0</td>\n",
       "      <td>Johnson&amp;Johnson, Oxford/AstraZeneca, Pfizer/Bi...</td>\n",
       "    </tr>\n",
       "    <tr>\n",
       "      <th>...</th>\n",
       "      <td>...</td>\n",
       "      <td>...</td>\n",
       "      <td>...</td>\n",
       "      <td>...</td>\n",
       "      <td>...</td>\n",
       "      <td>...</td>\n",
       "      <td>...</td>\n",
       "      <td>...</td>\n",
       "      <td>...</td>\n",
       "    </tr>\n",
       "    <tr>\n",
       "      <th>42790</th>\n",
       "      <td>Zimbabwe</td>\n",
       "      <td>2021-09-01</td>\n",
       "      <td>4270430.0</td>\n",
       "      <td>2615233.0</td>\n",
       "      <td>17.33</td>\n",
       "      <td>1655197.0</td>\n",
       "      <td>10.97</td>\n",
       "      <td>36416.0</td>\n",
       "      <td>Oxford/AstraZeneca, Sinopharm/Beijing, Sinovac...</td>\n",
       "    </tr>\n",
       "    <tr>\n",
       "      <th>42791</th>\n",
       "      <td>Zimbabwe</td>\n",
       "      <td>2021-09-02</td>\n",
       "      <td>4323735.0</td>\n",
       "      <td>2649505.0</td>\n",
       "      <td>17.56</td>\n",
       "      <td>1674230.0</td>\n",
       "      <td>11.09</td>\n",
       "      <td>39711.0</td>\n",
       "      <td>Oxford/AstraZeneca, Sinopharm/Beijing, Sinovac...</td>\n",
       "    </tr>\n",
       "    <tr>\n",
       "      <th>42792</th>\n",
       "      <td>Zimbabwe</td>\n",
       "      <td>2021-09-03</td>\n",
       "      <td>4372216.0</td>\n",
       "      <td>2681657.0</td>\n",
       "      <td>17.77</td>\n",
       "      <td>1690559.0</td>\n",
       "      <td>11.20</td>\n",
       "      <td>42317.0</td>\n",
       "      <td>Oxford/AstraZeneca, Sinopharm/Beijing, Sinovac...</td>\n",
       "    </tr>\n",
       "    <tr>\n",
       "      <th>42793</th>\n",
       "      <td>Zimbabwe</td>\n",
       "      <td>2021-09-04</td>\n",
       "      <td>4400246.0</td>\n",
       "      <td>2698332.0</td>\n",
       "      <td>17.88</td>\n",
       "      <td>1701914.0</td>\n",
       "      <td>11.28</td>\n",
       "      <td>41413.0</td>\n",
       "      <td>Oxford/AstraZeneca, Sinopharm/Beijing, Sinovac...</td>\n",
       "    </tr>\n",
       "    <tr>\n",
       "      <th>42794</th>\n",
       "      <td>Zimbabwe</td>\n",
       "      <td>2021-09-05</td>\n",
       "      <td>4431599.0</td>\n",
       "      <td>2713248.0</td>\n",
       "      <td>17.98</td>\n",
       "      <td>1718351.0</td>\n",
       "      <td>11.39</td>\n",
       "      <td>41964.0</td>\n",
       "      <td>Oxford/AstraZeneca, Sinopharm/Beijing, Sinovac...</td>\n",
       "    </tr>\n",
       "  </tbody>\n",
       "</table>\n",
       "<p>42795 rows × 9 columns</p>\n",
       "</div>"
      ],
      "text/plain": [
       "           country        date  total_vaccinations  people_vaccinated  \\\n",
       "0      Afghanistan  2021-02-22                 0.0                0.0   \n",
       "1      Afghanistan  2021-02-23                 NaN                NaN   \n",
       "2      Afghanistan  2021-02-24                 NaN                NaN   \n",
       "3      Afghanistan  2021-02-25                 NaN                NaN   \n",
       "4      Afghanistan  2021-02-26                 NaN                NaN   \n",
       "...            ...         ...                 ...                ...   \n",
       "42790     Zimbabwe  2021-09-01           4270430.0          2615233.0   \n",
       "42791     Zimbabwe  2021-09-02           4323735.0          2649505.0   \n",
       "42792     Zimbabwe  2021-09-03           4372216.0          2681657.0   \n",
       "42793     Zimbabwe  2021-09-04           4400246.0          2698332.0   \n",
       "42794     Zimbabwe  2021-09-05           4431599.0          2713248.0   \n",
       "\n",
       "       people_vaccinated_per_hundred  people_fully_vaccinated  \\\n",
       "0                               0.00                      NaN   \n",
       "1                                NaN                      NaN   \n",
       "2                                NaN                      NaN   \n",
       "3                                NaN                      NaN   \n",
       "4                                NaN                      NaN   \n",
       "...                              ...                      ...   \n",
       "42790                          17.33                1655197.0   \n",
       "42791                          17.56                1674230.0   \n",
       "42792                          17.77                1690559.0   \n",
       "42793                          17.88                1701914.0   \n",
       "42794                          17.98                1718351.0   \n",
       "\n",
       "       people_fully_vaccinated_per_hundred  daily_vaccinations  \\\n",
       "0                                      NaN                 NaN   \n",
       "1                                      NaN              1367.0   \n",
       "2                                      NaN              1367.0   \n",
       "3                                      NaN              1367.0   \n",
       "4                                      NaN              1367.0   \n",
       "...                                    ...                 ...   \n",
       "42790                                10.97             36416.0   \n",
       "42791                                11.09             39711.0   \n",
       "42792                                11.20             42317.0   \n",
       "42793                                11.28             41413.0   \n",
       "42794                                11.39             41964.0   \n",
       "\n",
       "                                                vaccines  \n",
       "0      Johnson&Johnson, Oxford/AstraZeneca, Pfizer/Bi...  \n",
       "1      Johnson&Johnson, Oxford/AstraZeneca, Pfizer/Bi...  \n",
       "2      Johnson&Johnson, Oxford/AstraZeneca, Pfizer/Bi...  \n",
       "3      Johnson&Johnson, Oxford/AstraZeneca, Pfizer/Bi...  \n",
       "4      Johnson&Johnson, Oxford/AstraZeneca, Pfizer/Bi...  \n",
       "...                                                  ...  \n",
       "42790  Oxford/AstraZeneca, Sinopharm/Beijing, Sinovac...  \n",
       "42791  Oxford/AstraZeneca, Sinopharm/Beijing, Sinovac...  \n",
       "42792  Oxford/AstraZeneca, Sinopharm/Beijing, Sinovac...  \n",
       "42793  Oxford/AstraZeneca, Sinopharm/Beijing, Sinovac...  \n",
       "42794  Oxford/AstraZeneca, Sinopharm/Beijing, Sinovac...  \n",
       "\n",
       "[42795 rows x 9 columns]"
      ]
     },
     "metadata": {},
     "output_type": "display_data"
    }
   ],
   "source": [
    "vaccinations_data = pd.read_csv('data/country_vaccinations.csv')\n",
    "vaccinations_data = vaccinations_data[\n",
    "    ['country', 'date', 'total_vaccinations', \n",
    "     'people_vaccinated', 'people_vaccinated_per_hundred',\n",
    "     'people_fully_vaccinated', 'people_fully_vaccinated_per_hundred',\n",
    "     'daily_vaccinations', 'vaccines']\n",
    "]\n",
    "\n",
    "display(vaccinations_data)"
   ]
  },
  {
   "cell_type": "markdown",
   "id": "a256bb21-9e0e-4977-90b5-e353268b442f",
   "metadata": {},
   "source": [
    "## Данная таблица содержит следующие столбцы:\n",
    "\n",
    "country — наименование страны;\n",
    "date — дата наблюдения;\n",
    "total_vaccinations — общее число введённых вакцин в стране на указанный день;\n",
    "people_vaccinated — общее число привитых первым компонентом в стране на указанный день;\n",
    "people_vaccinated_per_hundred — процент привитых первым компонентом в стране на указанный день (рассчитывается как );\n",
    "people_fully_vaccinated — общее число привитых вторым компонентом в стране на указанный день (первый компонент уже был введён им ранее);\n",
    "people_fully_vaccinated_per_hundred — процент привитых вторым компонентом в стране на указанный день (рассчитывается как );\n",
    "daily_vaccination — ежедневная вакцинация (число вакцинированных в указанный день);\n",
    "vaccines — комбинации вакцин, используемые в стране."
   ]
  },
  {
   "cell_type": "markdown",
   "id": "a355f38d-82a5-47e6-8c19-79aa7c4fe316",
   "metadata": {},
   "source": [
    "# ПРЕДОБРАБОТКА ДАННЫХ"
   ]
  },
  {
   "cell_type": "markdown",
   "id": "51e14137-3588-4736-b3db-145218b47fb4",
   "metadata": {},
   "source": [
    "В таблице covid_data группируем таблицу по дате и названию страны и рассчитываем суммарные показатели по всем регионам. Тем самым переходим от данных по регионам к данным по странам"
   ]
  },
  {
   "cell_type": "code",
   "execution_count": 34,
   "id": "92ef7908-5180-45cb-b520-309f0c062427",
   "metadata": {},
   "outputs": [],
   "source": [
    "covid_data = covid_data.groupby(\n",
    "    ['date', 'country'], \n",
    "    as_index=False\n",
    ")[['confirmed', 'deaths', 'recovered']].sum()"
   ]
  },
  {
   "cell_type": "markdown",
   "id": "c57aa2a3-620e-41d5-a749-6d73d5750da1",
   "metadata": {},
   "source": [
    "Преобразуем даты в формат datetime с помощью функции pd.to_datetime()"
   ]
  },
  {
   "cell_type": "code",
   "execution_count": 35,
   "id": "0cf59872-d629-4e28-8319-651c971f62b2",
   "metadata": {},
   "outputs": [],
   "source": [
    "covid_data['date'] = pd.to_datetime(covid_data['date'])"
   ]
  },
  {
   "cell_type": "markdown",
   "id": "75953bce-a171-4591-8bc6-09eee6e1a08d",
   "metadata": {},
   "source": [
    "Создадим признак больных на данный момент (active). Для этого вычтем из общего числа зафиксированных случаев число смертей и число выздоровевших пациентов"
   ]
  },
  {
   "cell_type": "code",
   "execution_count": 36,
   "id": "ead0f7b8-6ec7-460b-baea-5ea50f2dbb58",
   "metadata": {},
   "outputs": [],
   "source": [
    "covid_data['active'] = covid_data['confirmed'] - covid_data['deaths'] - covid_data['recovered']"
   ]
  },
  {
   "cell_type": "markdown",
   "id": "eef9c3a4-73db-4c66-910a-842ad3d9507e",
   "metadata": {},
   "source": [
    "Создадим признак ежедневного прироста числа заболевших, умерших и выздоровевших людей. Для этого отсортируем данные по названиям стран, а затем по датам. После этого произведём группировку по странам и рассчитаем разницу между «вчера и сегодня» с помощью метода diff()"
   ]
  },
  {
   "cell_type": "code",
   "execution_count": 37,
   "id": "e7abdb0f-8276-4ee0-8a6a-cf4c70912f6a",
   "metadata": {},
   "outputs": [],
   "source": [
    "covid_data = covid_data.sort_values(by=['country', 'date'])\n",
    "covid_data['daily_confirmed'] = covid_data.groupby('country')['confirmed'].diff()\n",
    "covid_data['daily_deaths'] = covid_data.groupby('country')['deaths'].diff()\n",
    "covid_data['daily_recovered'] = covid_data.groupby('country')['recovered'].diff()"
   ]
  },
  {
   "cell_type": "markdown",
   "id": "ccb9d9a7-5d31-4f0b-9a88-e2b7e8838c2e",
   "metadata": {},
   "source": [
    "Итоговый вид таблицы covid_data"
   ]
  },
  {
   "cell_type": "code",
   "execution_count": 38,
   "id": "299a2ba0-035d-4d3a-af09-d6e2e5cbb7ff",
   "metadata": {},
   "outputs": [
    {
     "data": {
      "text/html": [
       "<div>\n",
       "<style scoped>\n",
       "    .dataframe tbody tr th:only-of-type {\n",
       "        vertical-align: middle;\n",
       "    }\n",
       "\n",
       "    .dataframe tbody tr th {\n",
       "        vertical-align: top;\n",
       "    }\n",
       "\n",
       "    .dataframe thead th {\n",
       "        text-align: right;\n",
       "    }\n",
       "</style>\n",
       "<table border=\"1\" class=\"dataframe\">\n",
       "  <thead>\n",
       "    <tr style=\"text-align: right;\">\n",
       "      <th></th>\n",
       "      <th>date</th>\n",
       "      <th>country</th>\n",
       "      <th>confirmed</th>\n",
       "      <th>deaths</th>\n",
       "      <th>recovered</th>\n",
       "      <th>active</th>\n",
       "      <th>daily_confirmed</th>\n",
       "      <th>daily_deaths</th>\n",
       "      <th>daily_recovered</th>\n",
       "    </tr>\n",
       "  </thead>\n",
       "  <tbody>\n",
       "    <tr>\n",
       "      <th>11337</th>\n",
       "      <td>2020-02-24</td>\n",
       "      <td>Afghanistan</td>\n",
       "      <td>1.0</td>\n",
       "      <td>0.0</td>\n",
       "      <td>0.0</td>\n",
       "      <td>1.0</td>\n",
       "      <td>NaN</td>\n",
       "      <td>NaN</td>\n",
       "      <td>NaN</td>\n",
       "    </tr>\n",
       "    <tr>\n",
       "      <th>11570</th>\n",
       "      <td>2020-02-25</td>\n",
       "      <td>Afghanistan</td>\n",
       "      <td>1.0</td>\n",
       "      <td>0.0</td>\n",
       "      <td>0.0</td>\n",
       "      <td>1.0</td>\n",
       "      <td>0.0</td>\n",
       "      <td>0.0</td>\n",
       "      <td>0.0</td>\n",
       "    </tr>\n",
       "    <tr>\n",
       "      <th>11807</th>\n",
       "      <td>2020-02-26</td>\n",
       "      <td>Afghanistan</td>\n",
       "      <td>1.0</td>\n",
       "      <td>0.0</td>\n",
       "      <td>0.0</td>\n",
       "      <td>1.0</td>\n",
       "      <td>0.0</td>\n",
       "      <td>0.0</td>\n",
       "      <td>0.0</td>\n",
       "    </tr>\n",
       "    <tr>\n",
       "      <th>12051</th>\n",
       "      <td>2020-02-27</td>\n",
       "      <td>Afghanistan</td>\n",
       "      <td>1.0</td>\n",
       "      <td>0.0</td>\n",
       "      <td>0.0</td>\n",
       "      <td>1.0</td>\n",
       "      <td>0.0</td>\n",
       "      <td>0.0</td>\n",
       "      <td>0.0</td>\n",
       "    </tr>\n",
       "    <tr>\n",
       "      <th>12299</th>\n",
       "      <td>2020-02-28</td>\n",
       "      <td>Afghanistan</td>\n",
       "      <td>1.0</td>\n",
       "      <td>0.0</td>\n",
       "      <td>0.0</td>\n",
       "      <td>1.0</td>\n",
       "      <td>0.0</td>\n",
       "      <td>0.0</td>\n",
       "      <td>0.0</td>\n",
       "    </tr>\n",
       "    <tr>\n",
       "      <th>...</th>\n",
       "      <td>...</td>\n",
       "      <td>...</td>\n",
       "      <td>...</td>\n",
       "      <td>...</td>\n",
       "      <td>...</td>\n",
       "      <td>...</td>\n",
       "      <td>...</td>\n",
       "      <td>...</td>\n",
       "      <td>...</td>\n",
       "    </tr>\n",
       "    <tr>\n",
       "      <th>15933</th>\n",
       "      <td>2020-03-12</td>\n",
       "      <td>occupied Palestinian territory</td>\n",
       "      <td>0.0</td>\n",
       "      <td>0.0</td>\n",
       "      <td>0.0</td>\n",
       "      <td>0.0</td>\n",
       "      <td>0.0</td>\n",
       "      <td>0.0</td>\n",
       "      <td>0.0</td>\n",
       "    </tr>\n",
       "    <tr>\n",
       "      <th>16595</th>\n",
       "      <td>2020-03-14</td>\n",
       "      <td>occupied Palestinian territory</td>\n",
       "      <td>0.0</td>\n",
       "      <td>0.0</td>\n",
       "      <td>0.0</td>\n",
       "      <td>0.0</td>\n",
       "      <td>0.0</td>\n",
       "      <td>0.0</td>\n",
       "      <td>0.0</td>\n",
       "    </tr>\n",
       "    <tr>\n",
       "      <th>16938</th>\n",
       "      <td>2020-03-15</td>\n",
       "      <td>occupied Palestinian territory</td>\n",
       "      <td>0.0</td>\n",
       "      <td>0.0</td>\n",
       "      <td>0.0</td>\n",
       "      <td>0.0</td>\n",
       "      <td>0.0</td>\n",
       "      <td>0.0</td>\n",
       "      <td>0.0</td>\n",
       "    </tr>\n",
       "    <tr>\n",
       "      <th>17290</th>\n",
       "      <td>2020-03-16</td>\n",
       "      <td>occupied Palestinian territory</td>\n",
       "      <td>0.0</td>\n",
       "      <td>0.0</td>\n",
       "      <td>0.0</td>\n",
       "      <td>0.0</td>\n",
       "      <td>0.0</td>\n",
       "      <td>0.0</td>\n",
       "      <td>0.0</td>\n",
       "    </tr>\n",
       "    <tr>\n",
       "      <th>17645</th>\n",
       "      <td>2020-03-17</td>\n",
       "      <td>occupied Palestinian territory</td>\n",
       "      <td>0.0</td>\n",
       "      <td>0.0</td>\n",
       "      <td>0.0</td>\n",
       "      <td>0.0</td>\n",
       "      <td>0.0</td>\n",
       "      <td>0.0</td>\n",
       "      <td>0.0</td>\n",
       "    </tr>\n",
       "  </tbody>\n",
       "</table>\n",
       "<p>86785 rows × 9 columns</p>\n",
       "</div>"
      ],
      "text/plain": [
       "            date                         country  confirmed  deaths  \\\n",
       "11337 2020-02-24                     Afghanistan        1.0     0.0   \n",
       "11570 2020-02-25                     Afghanistan        1.0     0.0   \n",
       "11807 2020-02-26                     Afghanistan        1.0     0.0   \n",
       "12051 2020-02-27                     Afghanistan        1.0     0.0   \n",
       "12299 2020-02-28                     Afghanistan        1.0     0.0   \n",
       "...          ...                             ...        ...     ...   \n",
       "15933 2020-03-12  occupied Palestinian territory        0.0     0.0   \n",
       "16595 2020-03-14  occupied Palestinian territory        0.0     0.0   \n",
       "16938 2020-03-15  occupied Palestinian territory        0.0     0.0   \n",
       "17290 2020-03-16  occupied Palestinian territory        0.0     0.0   \n",
       "17645 2020-03-17  occupied Palestinian territory        0.0     0.0   \n",
       "\n",
       "       recovered  active  daily_confirmed  daily_deaths  daily_recovered  \n",
       "11337        0.0     1.0              NaN           NaN              NaN  \n",
       "11570        0.0     1.0              0.0           0.0              0.0  \n",
       "11807        0.0     1.0              0.0           0.0              0.0  \n",
       "12051        0.0     1.0              0.0           0.0              0.0  \n",
       "12299        0.0     1.0              0.0           0.0              0.0  \n",
       "...          ...     ...              ...           ...              ...  \n",
       "15933        0.0     0.0              0.0           0.0              0.0  \n",
       "16595        0.0     0.0              0.0           0.0              0.0  \n",
       "16938        0.0     0.0              0.0           0.0              0.0  \n",
       "17290        0.0     0.0              0.0           0.0              0.0  \n",
       "17645        0.0     0.0              0.0           0.0              0.0  \n",
       "\n",
       "[86785 rows x 9 columns]"
      ]
     },
     "metadata": {},
     "output_type": "display_data"
    }
   ],
   "source": [
    "display(covid_data)"
   ]
  },
  {
   "cell_type": "markdown",
   "id": "a093efa2-08e0-43d0-9acf-6411ff254d71",
   "metadata": {},
   "source": [
    "В таблице vaccinations_data достаточно будет преобразовать столбцы в формат datetime"
   ]
  },
  {
   "cell_type": "code",
   "execution_count": 39,
   "id": "4326d34c-ea27-4125-96a9-e649763a9382",
   "metadata": {},
   "outputs": [],
   "source": [
    "vaccinations_data['date'] = pd.to_datetime(vaccinations_data['date'])"
   ]
  },
  {
   "cell_type": "code",
   "execution_count": 40,
   "id": "72c7101a-23ea-4633-8277-4d6e21061e66",
   "metadata": {},
   "outputs": [
    {
     "name": "stdout",
     "output_type": "stream",
     "text": [
      "11337   2020-02-24\n",
      "11570   2020-02-25\n",
      "11807   2020-02-26\n",
      "12051   2020-02-27\n",
      "12299   2020-02-28\n",
      "           ...    \n",
      "15933   2020-03-12\n",
      "16595   2020-03-14\n",
      "16938   2020-03-15\n",
      "17290   2020-03-16\n",
      "17645   2020-03-17\n",
      "Name: date, Length: 86785, dtype: datetime64[ns]\n",
      "2020-01-22 00:00:00\n",
      "2021-05-29 00:00:00\n"
     ]
    }
   ],
   "source": [
    "# За какой период представлены данные в таблице covid_data? \n",
    "# В качестве ответа введите даты в формате datetime (без указания времени).\n",
    "\n",
    "covid_dates_intervals = covid_data['date']\n",
    "print(covid_dates_intervals)\n",
    "print(covid_dates_intervals.min())\n",
    "print(covid_dates_intervals.max())"
   ]
  },
  {
   "cell_type": "code",
   "execution_count": 51,
   "id": "316e49d0-51b5-4622-a5c5-880479b43a51",
   "metadata": {},
   "outputs": [
    {
     "name": "stdout",
     "output_type": "stream",
     "text": [
      "0       2021-02-22\n",
      "1       2021-02-23\n",
      "2       2021-02-24\n",
      "3       2021-02-25\n",
      "4       2021-02-26\n",
      "           ...    \n",
      "42790   2021-09-01\n",
      "42791   2021-09-02\n",
      "42792   2021-09-03\n",
      "42793   2021-09-04\n",
      "42794   2021-09-05\n",
      "Name: date, Length: 42795, dtype: datetime64[ns]\n",
      "2020-12-02 00:00:00\n",
      "2021-09-06 00:00:00\n"
     ]
    }
   ],
   "source": [
    "# За какой период представлены данные в таблице vaccinations_data? \n",
    "# В качестве ответа введите даты в формате datetime без указания времени.\n",
    "\n",
    "vaccinations_dates_intervals = vaccinations_data['date']\n",
    "print(vaccinations_dates_intervals)\n",
    "print(vaccinations_dates_intervals.min())\n",
    "print(vaccinations_dates_intervals.max())"
   ]
  },
  {
   "cell_type": "code",
   "execution_count": 52,
   "id": "77dfc845-a2f3-4c78-bf8c-a01f438abc7a",
   "metadata": {},
   "outputs": [
    {
     "data": {
      "text/html": [
       "<div>\n",
       "<style scoped>\n",
       "    .dataframe tbody tr th:only-of-type {\n",
       "        vertical-align: middle;\n",
       "    }\n",
       "\n",
       "    .dataframe tbody tr th {\n",
       "        vertical-align: top;\n",
       "    }\n",
       "\n",
       "    .dataframe thead th {\n",
       "        text-align: right;\n",
       "    }\n",
       "</style>\n",
       "<table border=\"1\" class=\"dataframe\">\n",
       "  <thead>\n",
       "    <tr style=\"text-align: right;\">\n",
       "      <th></th>\n",
       "      <th>date</th>\n",
       "      <th>country</th>\n",
       "      <th>confirmed</th>\n",
       "      <th>deaths</th>\n",
       "      <th>recovered</th>\n",
       "      <th>active</th>\n",
       "      <th>daily_confirmed</th>\n",
       "      <th>daily_deaths</th>\n",
       "      <th>daily_recovered</th>\n",
       "      <th>total_vaccinations</th>\n",
       "      <th>people_vaccinated</th>\n",
       "      <th>people_vaccinated_per_hundred</th>\n",
       "      <th>people_fully_vaccinated</th>\n",
       "      <th>people_fully_vaccinated_per_hundred</th>\n",
       "      <th>daily_vaccinations</th>\n",
       "      <th>vaccines</th>\n",
       "    </tr>\n",
       "  </thead>\n",
       "  <tbody>\n",
       "    <tr>\n",
       "      <th>0</th>\n",
       "      <td>2020-02-24</td>\n",
       "      <td>Afghanistan</td>\n",
       "      <td>1.0</td>\n",
       "      <td>0.0</td>\n",
       "      <td>0.0</td>\n",
       "      <td>1.0</td>\n",
       "      <td>NaN</td>\n",
       "      <td>NaN</td>\n",
       "      <td>NaN</td>\n",
       "      <td>NaN</td>\n",
       "      <td>NaN</td>\n",
       "      <td>NaN</td>\n",
       "      <td>NaN</td>\n",
       "      <td>NaN</td>\n",
       "      <td>NaN</td>\n",
       "      <td>NaN</td>\n",
       "    </tr>\n",
       "    <tr>\n",
       "      <th>1</th>\n",
       "      <td>2020-02-25</td>\n",
       "      <td>Afghanistan</td>\n",
       "      <td>1.0</td>\n",
       "      <td>0.0</td>\n",
       "      <td>0.0</td>\n",
       "      <td>1.0</td>\n",
       "      <td>0.0</td>\n",
       "      <td>0.0</td>\n",
       "      <td>0.0</td>\n",
       "      <td>NaN</td>\n",
       "      <td>NaN</td>\n",
       "      <td>NaN</td>\n",
       "      <td>NaN</td>\n",
       "      <td>NaN</td>\n",
       "      <td>NaN</td>\n",
       "      <td>NaN</td>\n",
       "    </tr>\n",
       "    <tr>\n",
       "      <th>2</th>\n",
       "      <td>2020-02-26</td>\n",
       "      <td>Afghanistan</td>\n",
       "      <td>1.0</td>\n",
       "      <td>0.0</td>\n",
       "      <td>0.0</td>\n",
       "      <td>1.0</td>\n",
       "      <td>0.0</td>\n",
       "      <td>0.0</td>\n",
       "      <td>0.0</td>\n",
       "      <td>NaN</td>\n",
       "      <td>NaN</td>\n",
       "      <td>NaN</td>\n",
       "      <td>NaN</td>\n",
       "      <td>NaN</td>\n",
       "      <td>NaN</td>\n",
       "      <td>NaN</td>\n",
       "    </tr>\n",
       "    <tr>\n",
       "      <th>3</th>\n",
       "      <td>2020-02-27</td>\n",
       "      <td>Afghanistan</td>\n",
       "      <td>1.0</td>\n",
       "      <td>0.0</td>\n",
       "      <td>0.0</td>\n",
       "      <td>1.0</td>\n",
       "      <td>0.0</td>\n",
       "      <td>0.0</td>\n",
       "      <td>0.0</td>\n",
       "      <td>NaN</td>\n",
       "      <td>NaN</td>\n",
       "      <td>NaN</td>\n",
       "      <td>NaN</td>\n",
       "      <td>NaN</td>\n",
       "      <td>NaN</td>\n",
       "      <td>NaN</td>\n",
       "    </tr>\n",
       "    <tr>\n",
       "      <th>4</th>\n",
       "      <td>2020-02-28</td>\n",
       "      <td>Afghanistan</td>\n",
       "      <td>1.0</td>\n",
       "      <td>0.0</td>\n",
       "      <td>0.0</td>\n",
       "      <td>1.0</td>\n",
       "      <td>0.0</td>\n",
       "      <td>0.0</td>\n",
       "      <td>0.0</td>\n",
       "      <td>NaN</td>\n",
       "      <td>NaN</td>\n",
       "      <td>NaN</td>\n",
       "      <td>NaN</td>\n",
       "      <td>NaN</td>\n",
       "      <td>NaN</td>\n",
       "      <td>NaN</td>\n",
       "    </tr>\n",
       "  </tbody>\n",
       "</table>\n",
       "</div>"
      ],
      "text/plain": [
       "        date      country  confirmed  deaths  recovered  active  \\\n",
       "0 2020-02-24  Afghanistan        1.0     0.0        0.0     1.0   \n",
       "1 2020-02-25  Afghanistan        1.0     0.0        0.0     1.0   \n",
       "2 2020-02-26  Afghanistan        1.0     0.0        0.0     1.0   \n",
       "3 2020-02-27  Afghanistan        1.0     0.0        0.0     1.0   \n",
       "4 2020-02-28  Afghanistan        1.0     0.0        0.0     1.0   \n",
       "\n",
       "   daily_confirmed  daily_deaths  daily_recovered  total_vaccinations  \\\n",
       "0              NaN           NaN              NaN                 NaN   \n",
       "1              0.0           0.0              0.0                 NaN   \n",
       "2              0.0           0.0              0.0                 NaN   \n",
       "3              0.0           0.0              0.0                 NaN   \n",
       "4              0.0           0.0              0.0                 NaN   \n",
       "\n",
       "   people_vaccinated  people_vaccinated_per_hundred  people_fully_vaccinated  \\\n",
       "0                NaN                            NaN                      NaN   \n",
       "1                NaN                            NaN                      NaN   \n",
       "2                NaN                            NaN                      NaN   \n",
       "3                NaN                            NaN                      NaN   \n",
       "4                NaN                            NaN                      NaN   \n",
       "\n",
       "   people_fully_vaccinated_per_hundred  daily_vaccinations vaccines  \n",
       "0                                  NaN                 NaN      NaN  \n",
       "1                                  NaN                 NaN      NaN  \n",
       "2                                  NaN                 NaN      NaN  \n",
       "3                                  NaN                 NaN      NaN  \n",
       "4                                  NaN                 NaN      NaN  "
      ]
     },
     "metadata": {},
     "output_type": "display_data"
    },
    {
     "name": "stdout",
     "output_type": "stream",
     "text": [
      "Число строк:  86785\n",
      "Число столбцов:  16\n"
     ]
    }
   ],
   "source": [
    "# С помощью метода merge() объедините таблицы covid_data и vaccinations_data по столбцам date и country\n",
    "\n",
    "covid_df = covid_data.merge(\n",
    "    vaccinations_data,\n",
    "    on=['date', 'country'],\n",
    "    how='left'\n",
    ")\n",
    "display(covid_df.head())\n",
    "print('Число строк: ', covid_df.shape[0])\n",
    "print('Число столбцов: ', covid_df.shape[1])"
   ]
  },
  {
   "cell_type": "code",
   "execution_count": 61,
   "id": "71e9b200-bc65-4bd6-8820-77874409bda7",
   "metadata": {},
   "outputs": [
    {
     "data": {
      "text/html": [
       "<div>\n",
       "<style scoped>\n",
       "    .dataframe tbody tr th:only-of-type {\n",
       "        vertical-align: middle;\n",
       "    }\n",
       "\n",
       "    .dataframe tbody tr th {\n",
       "        vertical-align: top;\n",
       "    }\n",
       "\n",
       "    .dataframe thead th {\n",
       "        text-align: right;\n",
       "    }\n",
       "</style>\n",
       "<table border=\"1\" class=\"dataframe\">\n",
       "  <thead>\n",
       "    <tr style=\"text-align: right;\">\n",
       "      <th></th>\n",
       "      <th>date</th>\n",
       "      <th>country</th>\n",
       "      <th>confirmed</th>\n",
       "      <th>deaths</th>\n",
       "      <th>recovered</th>\n",
       "      <th>active</th>\n",
       "      <th>daily_confirmed</th>\n",
       "      <th>daily_deaths</th>\n",
       "      <th>daily_recovered</th>\n",
       "      <th>total_vaccinations</th>\n",
       "      <th>people_vaccinated</th>\n",
       "      <th>people_vaccinated_per_hundred</th>\n",
       "      <th>people_fully_vaccinated</th>\n",
       "      <th>people_fully_vaccinated_per_hundred</th>\n",
       "      <th>daily_vaccinations</th>\n",
       "      <th>vaccines</th>\n",
       "      <th>death_rate</th>\n",
       "      <th>recover_rate</th>\n",
       "    </tr>\n",
       "  </thead>\n",
       "  <tbody>\n",
       "    <tr>\n",
       "      <th>0</th>\n",
       "      <td>2020-02-24</td>\n",
       "      <td>Afghanistan</td>\n",
       "      <td>1.0</td>\n",
       "      <td>0.0</td>\n",
       "      <td>0.0</td>\n",
       "      <td>1.0</td>\n",
       "      <td>NaN</td>\n",
       "      <td>NaN</td>\n",
       "      <td>NaN</td>\n",
       "      <td>NaN</td>\n",
       "      <td>NaN</td>\n",
       "      <td>NaN</td>\n",
       "      <td>NaN</td>\n",
       "      <td>NaN</td>\n",
       "      <td>NaN</td>\n",
       "      <td>NaN</td>\n",
       "      <td>0.0</td>\n",
       "      <td>0.0</td>\n",
       "    </tr>\n",
       "    <tr>\n",
       "      <th>1</th>\n",
       "      <td>2020-02-25</td>\n",
       "      <td>Afghanistan</td>\n",
       "      <td>1.0</td>\n",
       "      <td>0.0</td>\n",
       "      <td>0.0</td>\n",
       "      <td>1.0</td>\n",
       "      <td>0.0</td>\n",
       "      <td>0.0</td>\n",
       "      <td>0.0</td>\n",
       "      <td>NaN</td>\n",
       "      <td>NaN</td>\n",
       "      <td>NaN</td>\n",
       "      <td>NaN</td>\n",
       "      <td>NaN</td>\n",
       "      <td>NaN</td>\n",
       "      <td>NaN</td>\n",
       "      <td>0.0</td>\n",
       "      <td>0.0</td>\n",
       "    </tr>\n",
       "    <tr>\n",
       "      <th>2</th>\n",
       "      <td>2020-02-26</td>\n",
       "      <td>Afghanistan</td>\n",
       "      <td>1.0</td>\n",
       "      <td>0.0</td>\n",
       "      <td>0.0</td>\n",
       "      <td>1.0</td>\n",
       "      <td>0.0</td>\n",
       "      <td>0.0</td>\n",
       "      <td>0.0</td>\n",
       "      <td>NaN</td>\n",
       "      <td>NaN</td>\n",
       "      <td>NaN</td>\n",
       "      <td>NaN</td>\n",
       "      <td>NaN</td>\n",
       "      <td>NaN</td>\n",
       "      <td>NaN</td>\n",
       "      <td>0.0</td>\n",
       "      <td>0.0</td>\n",
       "    </tr>\n",
       "    <tr>\n",
       "      <th>3</th>\n",
       "      <td>2020-02-27</td>\n",
       "      <td>Afghanistan</td>\n",
       "      <td>1.0</td>\n",
       "      <td>0.0</td>\n",
       "      <td>0.0</td>\n",
       "      <td>1.0</td>\n",
       "      <td>0.0</td>\n",
       "      <td>0.0</td>\n",
       "      <td>0.0</td>\n",
       "      <td>NaN</td>\n",
       "      <td>NaN</td>\n",
       "      <td>NaN</td>\n",
       "      <td>NaN</td>\n",
       "      <td>NaN</td>\n",
       "      <td>NaN</td>\n",
       "      <td>NaN</td>\n",
       "      <td>0.0</td>\n",
       "      <td>0.0</td>\n",
       "    </tr>\n",
       "    <tr>\n",
       "      <th>4</th>\n",
       "      <td>2020-02-28</td>\n",
       "      <td>Afghanistan</td>\n",
       "      <td>1.0</td>\n",
       "      <td>0.0</td>\n",
       "      <td>0.0</td>\n",
       "      <td>1.0</td>\n",
       "      <td>0.0</td>\n",
       "      <td>0.0</td>\n",
       "      <td>0.0</td>\n",
       "      <td>NaN</td>\n",
       "      <td>NaN</td>\n",
       "      <td>NaN</td>\n",
       "      <td>NaN</td>\n",
       "      <td>NaN</td>\n",
       "      <td>NaN</td>\n",
       "      <td>NaN</td>\n",
       "      <td>0.0</td>\n",
       "      <td>0.0</td>\n",
       "    </tr>\n",
       "  </tbody>\n",
       "</table>\n",
       "</div>"
      ],
      "text/plain": [
       "        date      country  confirmed  deaths  recovered  active  \\\n",
       "0 2020-02-24  Afghanistan        1.0     0.0        0.0     1.0   \n",
       "1 2020-02-25  Afghanistan        1.0     0.0        0.0     1.0   \n",
       "2 2020-02-26  Afghanistan        1.0     0.0        0.0     1.0   \n",
       "3 2020-02-27  Afghanistan        1.0     0.0        0.0     1.0   \n",
       "4 2020-02-28  Afghanistan        1.0     0.0        0.0     1.0   \n",
       "\n",
       "   daily_confirmed  daily_deaths  daily_recovered  total_vaccinations  \\\n",
       "0              NaN           NaN              NaN                 NaN   \n",
       "1              0.0           0.0              0.0                 NaN   \n",
       "2              0.0           0.0              0.0                 NaN   \n",
       "3              0.0           0.0              0.0                 NaN   \n",
       "4              0.0           0.0              0.0                 NaN   \n",
       "\n",
       "   people_vaccinated  people_vaccinated_per_hundred  people_fully_vaccinated  \\\n",
       "0                NaN                            NaN                      NaN   \n",
       "1                NaN                            NaN                      NaN   \n",
       "2                NaN                            NaN                      NaN   \n",
       "3                NaN                            NaN                      NaN   \n",
       "4                NaN                            NaN                      NaN   \n",
       "\n",
       "   people_fully_vaccinated_per_hundred  daily_vaccinations vaccines  \\\n",
       "0                                  NaN                 NaN      NaN   \n",
       "1                                  NaN                 NaN      NaN   \n",
       "2                                  NaN                 NaN      NaN   \n",
       "3                                  NaN                 NaN      NaN   \n",
       "4                                  NaN                 NaN      NaN   \n",
       "\n",
       "   death_rate  recover_rate  \n",
       "0         0.0           0.0  \n",
       "1         0.0           0.0  \n",
       "2         0.0           0.0  \n",
       "3         0.0           0.0  \n",
       "4         0.0           0.0  "
      ]
     },
     "metadata": {},
     "output_type": "display_data"
    }
   ],
   "source": [
    "# В получившейся в задании 3.3 таблице covid_df создайте признаки death_rate — \n",
    "# общий процент смертей среди зафиксированных случаев (летальность) и recover_rate — общий процент случаев выздоровления.\n",
    "# Данные характеристики рассчитайте как отношение числа смертей (deaths)\n",
    "# и числа выздоровлений (recovered) к числу зафиксированных случаев (confirmed) и умножьте результаты на 100%.\n",
    "\n",
    "covid_df['death_rate'] = (covid_df['deaths'] / covid_df['confirmed']) * 100\n",
    "covid_df['recover_rate'] = (covid_df['recovered'] / covid_df['confirmed']) * 100\n",
    "display(covid_df.head())"
   ]
  },
  {
   "cell_type": "code",
   "execution_count": 62,
   "id": "4b630266-a2ae-492c-831c-fe6a6af274ce",
   "metadata": {},
   "outputs": [
    {
     "data": {
      "text/plain": [
       "7.19"
      ]
     },
     "execution_count": 62,
     "metadata": {},
     "output_type": "execute_result"
    }
   ],
   "source": [
    "# Какова максимальная летальность в США (United States) за весь период? Ответ округлите до второго знака после запятой.\n",
    "\n",
    "round(covid_df[covid_df['country'] == 'United States']['death_rate'].max(), 2)"
   ]
  },
  {
   "cell_type": "code",
   "execution_count": 63,
   "id": "201330be-ff9b-4527-8053-c97b24432ab7",
   "metadata": {},
   "outputs": [
    {
     "data": {
      "text/plain": [
       "67.06"
      ]
     },
     "execution_count": 63,
     "metadata": {},
     "output_type": "execute_result"
    }
   ],
   "source": [
    "# Чему равен средний процент выздоровевших в России (Russia)? Ответ округлите до второго знака после запятой.\n",
    "\n",
    "round(covid_df[covid_df['country'] == 'Russia']['recover_rate'].mean(), 2)"
   ]
  },
  {
   "cell_type": "markdown",
   "id": "abbfb3ea-8225-44cb-b43e-2ec2edd15cc7",
   "metadata": {},
   "source": [
    "# БАЗОВАЯ ВИЗУАЛИЗАЦИЯ В PANDAS"
   ]
  },
  {
   "cell_type": "markdown",
   "id": "d73e57e4-c3ba-46d4-9160-23a9e3df278a",
   "metadata": {},
   "source": [
    "Основным методом для создания простейших графиков в Pandas является plot().\n",
    "\n",
    "Основные параметры метода plot():\n",
    "\n",
    "x — название признака, который будет отложен по оси абсцисс;\n",
    "y — название признака, который будет отложен по оси ординат;\n",
    "figsize — размер графика (кортеж из ширины и высоты в дюймах);\n",
    "kind —тип визуализации. Основные типы:\n",
    "'line' — линейный график (по умолчанию);\n",
    "'bar' — столбчатая диаграмма;\n",
    "'barh' — горизонтальная столбчатая диаграмма;\n",
    "'hist' — гистограмма;\n",
    "'box' — коробчатая диаграмма (boxplot);\n",
    "'pie' — круговая диаграмма;\n",
    "'scatter' — диаграмма рассеяния.\n",
    "grid — отображение сетки (по умолчанию False);\n",
    "legend — отображение легенды (по умолчанию False);\n",
    "title — название графика;\n",
    "color — цвет."
   ]
  },
  {
   "cell_type": "markdown",
   "id": "0a87968f-f3e4-4f9f-89f3-03aa6b14d59a",
   "metadata": {},
   "source": [
    "Давайте попрактикуемся в использовании метода plot().\n",
    "\n",
    "Начнём с исследования заболеваемости коронавирусом во всём мире. Для этого первым делом отобразим, как менялось ежедневное число заболевших (daily_confirmed) во всём мире во времени. Далее сгруппируем таблицу по датам и подсчитаем суммарное число зафиксированных случаев по дням.\n",
    "\n",
    "## Теперь мы наконец можем построить график с помощью метода plot(). Будем использовать линейный график размером 12x4 (попробуйте взять другие числа, чтобы увидеть разницу). Подпишем график и отобразим сетку. Параметр lw (line width) отвечает за ширину линии для линейного графика."
   ]
  },
  {
   "cell_type": "code",
   "execution_count": 69,
   "id": "83fa6dc8-1e33-4fd2-9021-792d7926f1a2",
   "metadata": {},
   "outputs": [
    {
     "data": {
      "image/png": "[encoded data removed]",
      "text/plain": [
       "<Figure size 864x288 with 1 Axes>"
      ]
     },
     "metadata": {
      "needs_background": "light"
     },
     "output_type": "display_data"
    }
   ],
   "source": [
    "grouped_cases = covid_df.groupby('date')['daily_confirmed'].sum()\n",
    "grouped_cases.plot(\n",
    "    kind='line',\n",
    "    figsize=(12, 4),\n",
    "    title='Ежедневная заболеваемость во времени',\n",
    "    grid = True,\n",
    "    lw=3\n",
    ");"
   ]
  },
  {
   "cell_type": "markdown",
   "id": "a25e949e-b5e8-46b8-aa0d-27eba8ebf6ce",
   "metadata": {},
   "source": [
    "Примечание. Обратите внимание, что мы не использовали параметры x и y. Это связано с тем, что в нашем случае переменная grouped_cases — это объект Series.\n",
    "\n",
    "plot() может являться методом объекта типа DataFrame или Series. При типе DataFrame требуется указать х и у, либо будут построены графики всех столбцов. При типе Series в этом нет необходимости, ведь это и так всего один столбец данных (у) с индексами (х).\n",
    "\n",
    "При этом по оси абсцисс (х) откладываются индексы (на сгруппированных данных grouped_cases индексы — это даты), а по оси ординат (у) — значения показателей.\n",
    "\n",
    "Здесь и далее в модуле точка с запятой в последней строке кода используется во избежание вывода на экран служебной информации в ноутбуке (попробуйте её убрать и посмотрите, что будет)."
   ]
  },
  {
   "cell_type": "markdown",
   "id": "bfa817e5-a142-4430-84f1-ae580d8f6e3d",
   "metadata": {},
   "source": [
    "## Теперь построим гистограмму, которая покажет распределение ежедневной заболеваемости во всём мире. Для этого параметр kind выставляем на значение 'hist'. Параметр bins (корзины) отвечает за число прямоугольников в гистограмме — пусть их будет 10 (попробуйте использовать другие числа, чтобы увидеть разницу)."
   ]
  },
  {
   "cell_type": "code",
   "execution_count": 73,
   "id": "ae8b6910-b66e-406c-8154-c59dbbd595a3",
   "metadata": {},
   "outputs": [
    {
     "data": {
      "image/png": "[encoded data removed]",
      "text/plain": [
       "<Figure size 720x432 with 1 Axes>"
      ]
     },
     "metadata": {
      "needs_background": "light"
     },
     "output_type": "display_data"
    }
   ],
   "source": [
    "grouped_cases.plot(\n",
    "    kind='hist',\n",
    "    figsize=(10, 6),\n",
    "    title='Распределение ежедневной заболеваемости',\n",
    "    grid = True,\n",
    "    color = 'black',\n",
    "    bins=10\n",
    ");"
   ]
  },
  {
   "cell_type": "markdown",
   "id": "a16860a2-228c-43c2-8586-7e9a7f6ebdb9",
   "metadata": {},
   "source": [
    "## Давайте построим столбчатую диаграмму, которая покажет ТОП-10 стран по суммарной заболеваемости.\n",
    "\n",
    "Для этого сгруппируем данные по странам и вычислим последний зафиксированный показатель с помощью агрегирующего метода last() — он возвращает последнее значение в столбце DataFrame.\n",
    "\n",
    "Для построения столбчатой диаграммы значение параметра kind выставляем на 'bar'. Параметр colormap отвечает за цветовую гамму графика."
   ]
  },
  {
   "cell_type": "code",
   "execution_count": 74,
   "id": "2cb5b69a-08e2-45f0-8986-2d025fbb8959",
   "metadata": {},
   "outputs": [
    {
     "data": {
      "image/png": "[encoded data removed]",
      "text/plain": [
       "<Figure size 864x288 with 1 Axes>"
      ]
     },
     "metadata": {
      "needs_background": "light"
     },
     "output_type": "display_data"
    }
   ],
   "source": [
    "grouped_country = covid_df.groupby(['country'])['confirmed'].last()\n",
    "grouped_country = grouped_country.nlargest(10)\n",
    "grouped_country.plot(\n",
    "    kind='bar',\n",
    "    grid=True,\n",
    "    figsize=(12, 4),\n",
    "    colormap='plasma'\n",
    ");"
   ]
  },
  {
   "cell_type": "markdown",
   "id": "f2534ca1-a2f1-4577-93b2-6812868737ea",
   "metadata": {},
   "source": [
    "А теперь посмотрим, как в этих десяти странах соотносится количество заболевших и умерших от вируса. Для этого отобразим сразу два показателя на столбчатой диаграмме"
   ]
  },
  {
   "cell_type": "code",
   "execution_count": 77,
   "id": "48bbf858-93d5-45c9-a4e2-d8136769da45",
   "metadata": {},
   "outputs": [
    {
     "data": {
      "image/png": "[encoded data removed]",
      "text/plain": [
       "<Figure size 864x288 with 1 Axes>"
      ]
     },
     "metadata": {
      "needs_background": "light"
     },
     "output_type": "display_data"
    }
   ],
   "source": [
    "grouped_country = covid_df.groupby(['country'])[['confirmed', 'deaths']].last()\n",
    "grouped_country = grouped_country.nlargest(10, columns=['confirmed'])\n",
    "grouped_country.plot( \n",
    "    kind='bar', \n",
    "    grid=True, \n",
    "    figsize=(12, 4), \n",
    ");"
   ]
  },
  {
   "cell_type": "markdown",
   "id": "09219adc-1266-41d5-b0aa-ce53bb21eb9b",
   "metadata": {},
   "source": [
    "## Столбчатую диаграмма для пяти стран с наименьшим общим числом вакцинаций на последний день рассматриваемого периода (total_vaccinations)"
   ]
  },
  {
   "cell_type": "code",
   "execution_count": 80,
   "id": "a49c357a-b6f6-47c1-9017-4815bce5e45c",
   "metadata": {},
   "outputs": [
    {
     "data": {
      "image/png": "[encoded data removed]",
      "text/plain": [
       "<Figure size 432x288 with 1 Axes>"
      ]
     },
     "metadata": {
      "needs_background": "light"
     },
     "output_type": "display_data"
    }
   ],
   "source": [
    "covid_df.groupby(['country'])['total_vaccinations'].last().nsmallest(5).plot(kind='bar');\n",
    "\n",
    "# В данном задании мы используем метод nsmallest(), который позволяет выбрать n наименьших значений в Series,\n",
    "# а также метод last(), с помощью которого можно получить первое непустое значение в группах."
   ]
  },
  {
   "cell_type": "markdown",
   "id": "28776233-9d1e-4fa1-af9c-56f01707fb68",
   "metadata": {},
   "source": [
    "# БИБЛИОТЕКА MATPLOTLIB\n",
    "\n",
    "Matplotlib — это библиотека Python, обладающая большим количеством возможностей для визуализации и настройки отображения графиков и диаграмм (https://matplotlib.org/)\n",
    "\n",
    "За визуализацию графиков в Matplotlib отвечает модуль pyplot. Традиционно он импортируется под псевдонимом plt. Для более корректного отображения графиков в ноутбуках используется команда %matplotlib inline."
   ]
  },
  {
   "cell_type": "code",
   "execution_count": 82,
   "id": "c246d17e-408a-4d78-8a4d-6d0c1f36251f",
   "metadata": {},
   "outputs": [],
   "source": [
    "import matplotlib.pyplot as plt\n",
    "%matplotlib inline"
   ]
  },
  {
   "cell_type": "markdown",
   "id": "c036af1d-3ba4-43dd-b669-0106edc1e10a",
   "metadata": {},
   "source": [
    "## ОСНОВНЫЕ ОБЪЕКТЫ MATPLOTLIB\n",
    "\n",
    "Библиотека Matplotlib позволяет работать в нескольких режимах. Самый распространённый и мощный по функционалу — объектно-ориентированный режим. Он основан на работе с объектами фигур (figure, их ещё называют канвасами или холстами) и координатных плоскостей (axes, или системы координат).\n",
    "\n",
    "Процесс работы над графиком максимально прозрачен: сначала создаётся объект фигуры (fig) , содержащий необходимую информацию и настройки, например размер в дюймах (figsize, восемь дюймов в ширину, четыре — в высоту). К этому объекту с помощью метода add_axes() добавляется координатная плоскость, а на ней располагаются графические объекты. Для создания координатной плоскости необходимо указать её расположение на фигуре в виде списка из координат. В нашем случае она начинается в левом нижнем углу без отступов (координаты 0, 0) и занимает всё отведённое место в области (100%, ширина и высота равны 1)."
   ]
  },
  {
   "cell_type": "code",
   "execution_count": 83,
   "id": "63468891-7ef9-4051-89ba-71077b0e43e7",
   "metadata": {},
   "outputs": [
    {
     "data": {
      "image/png": "[encoded data removed]",
      "text/plain": [
       "<Figure size 576x288 with 1 Axes>"
      ]
     },
     "metadata": {
      "needs_background": "light"
     },
     "output_type": "display_data"
    }
   ],
   "source": [
    "fig = plt.figure(figsize=(8, 4))\n",
    "axes = fig.add_axes([0, 0, 1, 1])"
   ]
  },
  {
   "cell_type": "markdown",
   "id": "fd3c5f23-92a9-4984-914f-3df7a52a0c17",
   "metadata": {},
   "source": [
    "Теперь на созданной системе координат мы можем построить график. \n",
    "\n",
    "Утверждается, что коллективная вакцинация позволяет минимизировать риск заражения коронавирусной инфекцией (но только после второго компонента). Давайте проверим это на примере США: построим диаграмму рассеяния, которая покажет зависимость числа ежедневно обнаруживаемых случаев заражения (daily_confirmed) от общего количества привитых вторым компонентом вакцины (people_fully_vaccinated) в США."
   ]
  },
  {
   "cell_type": "markdown",
   "id": "db02abb8-6eb0-4e55-bb06-82f2f7174e58",
   "metadata": {},
   "source": [
    "У объекта координатной плоскости axes вызовем метод scatter().\n",
    "\n",
    "Основные параметры метода scatter()\n",
    "\n",
    "x, y — последовательности, которые будут отложены по осям абсцисс и ординат;\n",
    "s — размер маркеров;\n",
    "marker — вид маркеров ('o' — точки, '^' — треугольники);\n",
    "c — цвет маркеров."
   ]
  },
  {
   "cell_type": "markdown",
   "id": "04571a9e-e092-4532-ba83-5233b2956965",
   "metadata": {},
   "source": [
    "## На диаграмме рассеяния по оси абсцисс откладываем суммарное число поставленных вакцин, а по оси ординат — ежедневный прирост заболевших"
   ]
  },
  {
   "cell_type": "code",
   "execution_count": 84,
   "id": "ee799672-b4ae-42d1-9a77-1816f0dfc86b",
   "metadata": {},
   "outputs": [
    {
     "data": {
      "image/png": "[encoded data removed]",
      "text/plain": [
       "<Figure size 576x288 with 1 Axes>"
      ]
     },
     "metadata": {
      "needs_background": "light"
     },
     "output_type": "display_data"
    }
   ],
   "source": [
    "us_data = covid_df[covid_df['country'] == 'United States']\n",
    "\n",
    "fig = plt.figure(figsize=(8, 4))\n",
    "axes = fig.add_axes([0, 0, 1, 1])\n",
    "axes.scatter(\n",
    "    x=us_data['people_fully_vaccinated'], \n",
    "    y=us_data['daily_confirmed'], \n",
    "    s=100,\n",
    "    marker='o',\n",
    "    c = 'blue'\n",
    ");"
   ]
  },
  {
   "cell_type": "markdown",
   "id": "aee8272d-490a-46f2-9af3-df3b27906523",
   "metadata": {},
   "source": [
    "# SEABORN\n",
    "\n",
    "Seaborn — надстройка над библиотекой Matplotlib, которая значительно расширяет её возможности, позволяя создавать графики более высокого уровня с эстетичным оформлением. Библиотека предоставляет большое количество дополнительных опций для творчества при визуализации данных."
   ]
  },
  {
   "cell_type": "code",
   "execution_count": 85,
   "id": "c835836a-0051-4814-a5ce-0d2e98616162",
   "metadata": {},
   "outputs": [
    {
     "name": "stdout",
     "output_type": "stream",
     "text": [
      "0.11.2\n"
     ]
    }
   ],
   "source": [
    "import seaborn as sns\n",
    "print(sns.__version__)"
   ]
  },
  {
   "cell_type": "markdown",
   "id": "6559ca4e-3a9b-4a6e-a635-328cd2f7c32d",
   "metadata": {},
   "source": [
    "В данном разделе мы будем сравнивать несколько стран: Россию, Австралию, Германию, Канаду и Великобританию. Создадим специальный DataFrame croped_covid_df для этих данных.\n",
    "\n",
    "Для фильтрации по списку значений используем метод isin(), который проверяет, есть ли запись в столбце в переданном в метод списке. В результате возвращается привычная нам маска.\n",
    "\n",
    "А теперь снова немного магии Feature Engineering, чтобы показатели по странам стали сопоставимыми: добавим информацию о населении стран, чтобы рассчитать ежедневную заболеваемость на 100 человек — заболеваемость в процентах от общего количества населения (daily_confirmed_per_hundred)."
   ]
  },
  {
   "cell_type": "code",
   "execution_count": 86,
   "id": "c322ce10-c578-4ab1-b710-19f71a594e33",
   "metadata": {},
   "outputs": [
    {
     "data": {
      "text/html": [
       "<div>\n",
       "<style scoped>\n",
       "    .dataframe tbody tr th:only-of-type {\n",
       "        vertical-align: middle;\n",
       "    }\n",
       "\n",
       "    .dataframe tbody tr th {\n",
       "        vertical-align: top;\n",
       "    }\n",
       "\n",
       "    .dataframe thead th {\n",
       "        text-align: right;\n",
       "    }\n",
       "</style>\n",
       "<table border=\"1\" class=\"dataframe\">\n",
       "  <thead>\n",
       "    <tr style=\"text-align: right;\">\n",
       "      <th></th>\n",
       "      <th>date</th>\n",
       "      <th>country</th>\n",
       "      <th>confirmed</th>\n",
       "      <th>deaths</th>\n",
       "      <th>recovered</th>\n",
       "      <th>active</th>\n",
       "      <th>daily_confirmed</th>\n",
       "      <th>daily_deaths</th>\n",
       "      <th>daily_recovered</th>\n",
       "      <th>total_vaccinations</th>\n",
       "      <th>people_vaccinated</th>\n",
       "      <th>people_vaccinated_per_hundred</th>\n",
       "      <th>people_fully_vaccinated</th>\n",
       "      <th>people_fully_vaccinated_per_hundred</th>\n",
       "      <th>daily_vaccinations</th>\n",
       "      <th>vaccines</th>\n",
       "      <th>death_rate</th>\n",
       "      <th>recover_rate</th>\n",
       "      <th>population</th>\n",
       "      <th>daily_confirmed_per_hundred</th>\n",
       "    </tr>\n",
       "  </thead>\n",
       "  <tbody>\n",
       "    <tr>\n",
       "      <th>0</th>\n",
       "      <td>2020-01-23</td>\n",
       "      <td>Australia</td>\n",
       "      <td>0.0</td>\n",
       "      <td>0.0</td>\n",
       "      <td>0.0</td>\n",
       "      <td>0.0</td>\n",
       "      <td>NaN</td>\n",
       "      <td>NaN</td>\n",
       "      <td>NaN</td>\n",
       "      <td>NaN</td>\n",
       "      <td>NaN</td>\n",
       "      <td>NaN</td>\n",
       "      <td>NaN</td>\n",
       "      <td>NaN</td>\n",
       "      <td>NaN</td>\n",
       "      <td>NaN</td>\n",
       "      <td>NaN</td>\n",
       "      <td>NaN</td>\n",
       "      <td>25726900</td>\n",
       "      <td>NaN</td>\n",
       "    </tr>\n",
       "    <tr>\n",
       "      <th>1</th>\n",
       "      <td>2020-01-25</td>\n",
       "      <td>Australia</td>\n",
       "      <td>4.0</td>\n",
       "      <td>0.0</td>\n",
       "      <td>0.0</td>\n",
       "      <td>4.0</td>\n",
       "      <td>4.0</td>\n",
       "      <td>0.0</td>\n",
       "      <td>0.0</td>\n",
       "      <td>NaN</td>\n",
       "      <td>NaN</td>\n",
       "      <td>NaN</td>\n",
       "      <td>NaN</td>\n",
       "      <td>NaN</td>\n",
       "      <td>NaN</td>\n",
       "      <td>NaN</td>\n",
       "      <td>0.0</td>\n",
       "      <td>0.0</td>\n",
       "      <td>25726900</td>\n",
       "      <td>0.000016</td>\n",
       "    </tr>\n",
       "    <tr>\n",
       "      <th>2</th>\n",
       "      <td>2020-01-26</td>\n",
       "      <td>Australia</td>\n",
       "      <td>4.0</td>\n",
       "      <td>0.0</td>\n",
       "      <td>0.0</td>\n",
       "      <td>4.0</td>\n",
       "      <td>0.0</td>\n",
       "      <td>0.0</td>\n",
       "      <td>0.0</td>\n",
       "      <td>NaN</td>\n",
       "      <td>NaN</td>\n",
       "      <td>NaN</td>\n",
       "      <td>NaN</td>\n",
       "      <td>NaN</td>\n",
       "      <td>NaN</td>\n",
       "      <td>NaN</td>\n",
       "      <td>0.0</td>\n",
       "      <td>0.0</td>\n",
       "      <td>25726900</td>\n",
       "      <td>0.000000</td>\n",
       "    </tr>\n",
       "    <tr>\n",
       "      <th>3</th>\n",
       "      <td>2020-01-27</td>\n",
       "      <td>Australia</td>\n",
       "      <td>5.0</td>\n",
       "      <td>0.0</td>\n",
       "      <td>0.0</td>\n",
       "      <td>5.0</td>\n",
       "      <td>1.0</td>\n",
       "      <td>0.0</td>\n",
       "      <td>0.0</td>\n",
       "      <td>NaN</td>\n",
       "      <td>NaN</td>\n",
       "      <td>NaN</td>\n",
       "      <td>NaN</td>\n",
       "      <td>NaN</td>\n",
       "      <td>NaN</td>\n",
       "      <td>NaN</td>\n",
       "      <td>0.0</td>\n",
       "      <td>0.0</td>\n",
       "      <td>25726900</td>\n",
       "      <td>0.000004</td>\n",
       "    </tr>\n",
       "    <tr>\n",
       "      <th>4</th>\n",
       "      <td>2020-01-28</td>\n",
       "      <td>Australia</td>\n",
       "      <td>5.0</td>\n",
       "      <td>0.0</td>\n",
       "      <td>0.0</td>\n",
       "      <td>5.0</td>\n",
       "      <td>0.0</td>\n",
       "      <td>0.0</td>\n",
       "      <td>0.0</td>\n",
       "      <td>NaN</td>\n",
       "      <td>NaN</td>\n",
       "      <td>NaN</td>\n",
       "      <td>NaN</td>\n",
       "      <td>NaN</td>\n",
       "      <td>NaN</td>\n",
       "      <td>NaN</td>\n",
       "      <td>0.0</td>\n",
       "      <td>0.0</td>\n",
       "      <td>25726900</td>\n",
       "      <td>0.000000</td>\n",
       "    </tr>\n",
       "  </tbody>\n",
       "</table>\n",
       "</div>"
      ],
      "text/plain": [
       "        date    country  confirmed  deaths  recovered  active  \\\n",
       "0 2020-01-23  Australia        0.0     0.0        0.0     0.0   \n",
       "1 2020-01-25  Australia        4.0     0.0        0.0     4.0   \n",
       "2 2020-01-26  Australia        4.0     0.0        0.0     4.0   \n",
       "3 2020-01-27  Australia        5.0     0.0        0.0     5.0   \n",
       "4 2020-01-28  Australia        5.0     0.0        0.0     5.0   \n",
       "\n",
       "   daily_confirmed  daily_deaths  daily_recovered  total_vaccinations  \\\n",
       "0              NaN           NaN              NaN                 NaN   \n",
       "1              4.0           0.0              0.0                 NaN   \n",
       "2              0.0           0.0              0.0                 NaN   \n",
       "3              1.0           0.0              0.0                 NaN   \n",
       "4              0.0           0.0              0.0                 NaN   \n",
       "\n",
       "   people_vaccinated  people_vaccinated_per_hundred  people_fully_vaccinated  \\\n",
       "0                NaN                            NaN                      NaN   \n",
       "1                NaN                            NaN                      NaN   \n",
       "2                NaN                            NaN                      NaN   \n",
       "3                NaN                            NaN                      NaN   \n",
       "4                NaN                            NaN                      NaN   \n",
       "\n",
       "   people_fully_vaccinated_per_hundred  daily_vaccinations vaccines  \\\n",
       "0                                  NaN                 NaN      NaN   \n",
       "1                                  NaN                 NaN      NaN   \n",
       "2                                  NaN                 NaN      NaN   \n",
       "3                                  NaN                 NaN      NaN   \n",
       "4                                  NaN                 NaN      NaN   \n",
       "\n",
       "   death_rate  recover_rate  population  daily_confirmed_per_hundred  \n",
       "0         NaN           NaN    25726900                          NaN  \n",
       "1         0.0           0.0    25726900                     0.000016  \n",
       "2         0.0           0.0    25726900                     0.000000  \n",
       "3         0.0           0.0    25726900                     0.000004  \n",
       "4         0.0           0.0    25726900                     0.000000  "
      ]
     },
     "execution_count": 86,
     "metadata": {},
     "output_type": "execute_result"
    }
   ],
   "source": [
    "countries = ['Russia', 'Australia', 'Germany', 'Canada', 'United Kingdom']\n",
    "croped_covid_df = covid_df[covid_df['country'].isin(countries)]\n",
    "\n",
    "populations = pd.DataFrame([\n",
    "    ['Canada', 37664517],\n",
    "    ['Germany', 83721496],\n",
    "    ['Russia', 145975300],\n",
    "    ['Australia', 25726900],\n",
    "    ['United Kingdom', 67802690]\n",
    "    ],\n",
    "    columns=['country', 'population']\n",
    ")\n",
    "croped_covid_df = croped_covid_df.merge(populations, on=['country'])\n",
    "croped_covid_df['daily_confirmed_per_hundred'] = croped_covid_df['daily_confirmed'] / croped_covid_df['population'] * 100\n",
    "croped_covid_df.head()"
   ]
  },
  {
   "cell_type": "markdown",
   "id": "6f481cf7-80f8-4817-a000-4445387ebc29",
   "metadata": {},
   "source": [
    "Начнём с гистограммы. Для визуализации гистограмм в библиотеке Seaborn используется метод histplot().\n",
    "\n",
    "У данного метода (как и у всех методов библиотеки Seaborn) огромнейшее количество параметров. Мы приведём лишь основные.\n",
    "\n",
    "Основные параметры метода histplot()\n",
    "\n",
    "data — DataFrame, по которому строится график;\n",
    "x — признак, который будет отложен по оси абсцисс;\n",
    "y — признак, который будет отложен по оси ординат;\n",
    "hue — группировочный категориальный признак, который позволяет строить отдельный график для каждой категории (не стоит использовать его для гистограмм, но он широко используется для других видов графиков в Seaborn);\n",
    "ax — система координат Matplotlib, в которой строится график;\n",
    "color — цвет графика;\n",
    "bins — число столбцов в гистограмме (по умолчанию вычисляется автоматически с помощью специальных формул);\n",
    "kde — параметр, указывающий, стоит ли сглаживать гистограмму кривой (по умолчанию False).\n",
    "\n",
    "Построим сразу две гистограммы: одна будет иллюстрировать общее распределение ежедневной заболеваемости (daily_confirmed), а вторая — то же распределение в разрезе стран. \n",
    "\n",
    "Для этого создаём две координатные плоскости с помощью метода subplots(). \n",
    "\n",
    "На первой координатной плоскости рисуем простую гистограмму с 25 столбцами, а также добавим на неё сглаживающую кривую. \n",
    "\n",
    "На второй гистограмме добавляем параметр названия страны по оси y. В таком случае количество наблюдений будет обозначаться на диаграмме яркостью цвета (чем темнее полоса, тем больше наблюдений находится в интервале)."
   ]
  },
  {
   "cell_type": "code",
   "execution_count": 87,
   "id": "0c974d72-dd8a-4c94-ab0d-da3adc4ed5a8",
   "metadata": {},
   "outputs": [
    {
     "data": {
      "image/png": "[encoded data removed]",
      "text/plain": [
       "<Figure size 720x576 with 2 Axes>"
      ]
     },
     "metadata": {
      "needs_background": "light"
     },
     "output_type": "display_data"
    }
   ],
   "source": [
    "fig, axes = plt.subplots(nrows=2, ncols=1, figsize=(10, 8))\n",
    "sns.histplot(\n",
    "    data=croped_covid_df,\n",
    "    x='daily_confirmed_per_hundred',\n",
    "    bins=25,\n",
    "    kde=True,\n",
    "    ax=axes[0]\n",
    ");\n",
    "axes[0].set_title('Гистограмма ежедневной заболеваемости на 100 человек', fontsize=16)\n",
    "sns.histplot(\n",
    "    data=croped_covid_df,\n",
    "    x='daily_confirmed_per_hundred',\n",
    "    y='country',\n",
    "    bins=25,\n",
    "    color='red',\n",
    "    ax=axes[1]\n",
    ");"
   ]
  },
  {
   "cell_type": "markdown",
   "id": "7b87e797-be9f-4453-9d0b-d879200a02a9",
   "metadata": {},
   "source": [
    "Общая гистограмма показывает, что ежедневная заболеваемость в выбранных странах не превышает 0.1 % от общего количества населения, причём большая часть наблюдений сосредоточена около 0. \n",
    "\n",
    "Также отчётливо видны аномалии — маленькие «пеньки», где заболеваемость отрицательная.\n",
    "\n",
    "Гистограмма по странам показывает, какой вклад в общее распределение вносит заболеваемость в каждой из стран по отдельности. Например, ясно, что пик около нуля на общей гистограмме в основном задаётся Австралией, так как в ней ежедневная заболеваемость не превышала 0.005 % от общего числа населения (около 1.5 тыс. человек в день) и все наблюдения сосредоточены в двух интервалах. Чуть больший разброс по числу фиксируемых в день случаев имеет Россия, затем идут Канада, Германия и Великобритания.\n",
    "\n",
    "Отличительной особенностью распределения для России и Великобритании является то, что для них характерен больший процент заболевших (самая тёмная отметка находится правее, чем у других стран).\n",
    "\n",
    "Наконец, видно, что аномальная отрицательная заболеваемость принадлежит Великобритании. Об аномалиях, их поиске как с помощью визуализации, так и иными методами мы ещё будем говорить в модуле по очистке данных."
   ]
  },
  {
   "cell_type": "markdown",
   "id": "9efff503-f044-4239-9682-63116579dbbe",
   "metadata": {},
   "source": [
    "## На самом деле при использовании Seaborn необязательно передавать координатные плоскости в аргументы функций. Графики в библиотеке вполне себе самодостаточны: функции для построения графика возвращают объект Axes из библиотеки Matplotlib, с которыми мы уже умеем работать. Достаточно просто занести результат выполнения функции в переменную и использовать её для настройки графика"
   ]
  },
  {
   "cell_type": "markdown",
   "id": "6f4b9305-4a0c-492a-9678-4f7b0cfbb44a",
   "metadata": {},
   "source": [
    "Рассмотрим пример — построим коробчатые диаграммы признака летальности (death_rate), который вы создавали ранее.\n",
    "\n",
    "Коробчатые диаграммы в Seaborn строятся с помощью метода boxplot().\n",
    "\n",
    "Ящики отразим горизонтально (для этого по оси x отложим признак летальности, а по оси y — страны), параметр orient отвечает за ориентацию диаграммы, а width — за ширину коробок:"
   ]
  },
  {
   "cell_type": "code",
   "execution_count": 88,
   "id": "b222bf74-183a-404b-99e3-e716160e5724",
   "metadata": {},
   "outputs": [
    {
     "data": {
      "image/png": "[encoded data removed]",
      "text/plain": [
       "<Figure size 720x504 with 1 Axes>"
      ]
     },
     "metadata": {
      "needs_background": "light"
     },
     "output_type": "display_data"
    }
   ],
   "source": [
    "fig = plt.figure(figsize=(10, 7))\n",
    "boxplot = sns.boxplot(\n",
    "    data=croped_covid_df,\n",
    "    y='country',\n",
    "    x='death_rate',\n",
    "    orient='h',\n",
    "    width=0.9\n",
    ")\n",
    "boxplot.set_title('Распределение летальности по странам');\n",
    "boxplot.set_xlabel('Летальность');\n",
    "boxplot.set_ylabel('Страна');\n",
    "boxplot.grid()"
   ]
  },
  {
   "cell_type": "markdown",
   "id": "20296742-3006-4838-85db-20809c850dd0",
   "metadata": {},
   "source": [
    "Из выделенных стран наиболее стабильная во времени летальность от коронавируса — в России (ширина ящика наименьшая), она же является самой низкой (наименьшая медиана). Наибольший разброс имеет процент смертей в Великобритании, что объясняется вирусологами и британскими СМИ как неподготовленность страны к эпидемии в её начале, что приводило к высокой летальности. Однако, судя по тому что медианное значение летальности в стране практически совпадает со всеми остальными, можно сказать, что со временем обстановка стабилизировалась.\n",
    "\n",
    "Теперь рассмотрим пример многоуровневой столбчатой диаграммы. С помощью неё мы можем, например, посмотреть на средний ежедневный процент заболевших в странах по кварталам.\n",
    "\n",
    "Для построения столбчатых диаграмм в Seaborn используется метод barplot(). По умолчанию метод отображает среднее по столбцу, который указан в параметре x (вместо среднего можно вычислить и любую другую статистическую характеристику, наименование которой задаётся в параметре estimator). Для добавления многоуровневости используется параметр hue, который позволяет группировать данные по признаку."
   ]
  },
  {
   "cell_type": "code",
   "execution_count": 89,
   "id": "458ec72b-b93d-46ca-9e28-a976586f5fb8",
   "metadata": {},
   "outputs": [
    {
     "data": {
      "image/png": "[encoded data removed]",
      "text/plain": [
       "<Figure size 720x504 with 1 Axes>"
      ]
     },
     "metadata": {
      "needs_background": "light"
     },
     "output_type": "display_data"
    }
   ],
   "source": [
    "fig = plt.figure(figsize=(10, 7))\n",
    "croped_covid_df['quarter'] = croped_covid_df['date'].dt.quarter\n",
    "barplot = sns.barplot(\n",
    "    data=croped_covid_df,\n",
    "    x='country',\n",
    "    y='daily_confirmed_per_hundred',\n",
    "    hue='quarter',\n",
    ")\n",
    "barplot.set_title('Средний процент болеющего населения по кварталам');"
   ]
  },
  {
   "cell_type": "markdown",
   "id": "f21df729-63fc-428b-ba56-3ec9b518a08d",
   "metadata": {},
   "source": [
    "Диаграмма показывает, как зависит средний ежедневный процент заболевших от страны и квартала. Отчётливо видно, что во всех странах (кроме Австралии), большинство людей заболевают в четвёртом квартале (октябрь, ноябрь, декабрь), когда иммунитет особенно ослаблен, а наименьшее число заболевших соответствует третьему кварталу (июль, август, сентябрь)."
   ]
  },
  {
   "cell_type": "markdown",
   "id": "0cc9e6f6-9eee-474f-a892-6851a8a5a2cd",
   "metadata": {},
   "source": [
    "Построим один из самых любимых дата-сайентистами графиков — jointplot() — в котором совмещены диаграмма рассеяния и гистограмма. Это довольно удобный и полезный инструмент, когда мы хотим одновременно посмотреть и на распределения переменных, и сразу оценить их взаимосвязь.\n",
    "\n",
    "Построим jointplot зависимости ежедневной заболеваемости в странах от общей численности населения в процентах (daily_confirmed_per_hundred) от числа полностью вакцинированных в процентах (people_fully_vaccinated_per_hundred).\n",
    "\n",
    "Параметры xlim и ylim определяют диапазон отображения осей x и y. Параметр height отвечает за высоту и ширину графика (он квадратный)."
   ]
  },
  {
   "cell_type": "code",
   "execution_count": 90,
   "id": "69eff89d-3831-409d-bdf7-4b7db7797b0d",
   "metadata": {},
   "outputs": [
    {
     "data": {
      "image/png": "[encoded data removed]",
      "text/plain": [
       "<Figure size 576x576 with 3 Axes>"
      ]
     },
     "metadata": {
      "needs_background": "light"
     },
     "output_type": "display_data"
    }
   ],
   "source": [
    "jointplot = sns.jointplot(\n",
    "    data=croped_covid_df, \n",
    "    x='people_fully_vaccinated_per_hundred', \n",
    "    y='daily_confirmed_per_hundred',\n",
    "    hue='country',\n",
    "    xlim = (0, 40),\n",
    "    ylim = (0, 0.1),\n",
    "    height=8,\n",
    ")"
   ]
  },
  {
   "cell_type": "markdown",
   "id": "66204f0d-0c49-43d3-a9c3-e2436d0d0b5e",
   "metadata": {},
   "source": [
    "Из графика для Великобритании и России наблюдается следующая тенденция: с увеличением числа полностью привитых людей уменьшается ежедневное число заболевших. Для Канады и Германии такая же тенденция наблюдается только после достижения отметки в 7 % полностью привитого населения. Однако это может быть стечением обстоятельств, так как вирусологи говорят о необходимости полного вакцинирования 60 % населения в стране для снижения заболеваемости."
   ]
  },
  {
   "cell_type": "markdown",
   "id": "b483593e-9880-450e-958f-052c40373a6d",
   "metadata": {},
   "source": [
    "Допустим, мы хотим сравнить темпы вакцинации по странам во времени. Вы, скорее всего, сразу подумали о линейном графике. Но давайте мыслить шире. Когда мы хотим сравнить скорость изменения показателей по малому количеству категорий (в данном случае — по странам, а их у нас их всего пять), нагляднее всего будет тепловая карта.\n",
    "\n",
    "Предварительно создадим сводную таблицу: по столбцам отложим признак даты, а по строкам — страны. В ячейках таблицы будет находиться процент вакцинированных (первым компонентом) людей в стране на определённую дату. Чтобы даты отображались на тепловой карте верно, их необходимо привести к типу string."
   ]
  },
  {
   "cell_type": "code",
   "execution_count": 91,
   "id": "03f80177-dacb-4a44-bfc0-63601a369cfd",
   "metadata": {},
   "outputs": [
    {
     "data": {
      "text/html": [
       "<div>\n",
       "<style scoped>\n",
       "    .dataframe tbody tr th:only-of-type {\n",
       "        vertical-align: middle;\n",
       "    }\n",
       "\n",
       "    .dataframe tbody tr th {\n",
       "        vertical-align: top;\n",
       "    }\n",
       "\n",
       "    .dataframe thead th {\n",
       "        text-align: right;\n",
       "    }\n",
       "</style>\n",
       "<table border=\"1\" class=\"dataframe\">\n",
       "  <thead>\n",
       "    <tr style=\"text-align: right;\">\n",
       "      <th>date</th>\n",
       "      <th>2020-12-13</th>\n",
       "      <th>2020-12-14</th>\n",
       "      <th>2020-12-15</th>\n",
       "      <th>2020-12-16</th>\n",
       "      <th>2020-12-17</th>\n",
       "      <th>2020-12-18</th>\n",
       "      <th>2020-12-19</th>\n",
       "      <th>2020-12-20</th>\n",
       "      <th>2020-12-21</th>\n",
       "      <th>2020-12-22</th>\n",
       "      <th>...</th>\n",
       "      <th>2021-05-20</th>\n",
       "      <th>2021-05-21</th>\n",
       "      <th>2021-05-22</th>\n",
       "      <th>2021-05-23</th>\n",
       "      <th>2021-05-24</th>\n",
       "      <th>2021-05-25</th>\n",
       "      <th>2021-05-26</th>\n",
       "      <th>2021-05-27</th>\n",
       "      <th>2021-05-28</th>\n",
       "      <th>2021-05-29</th>\n",
       "    </tr>\n",
       "    <tr>\n",
       "      <th>country</th>\n",
       "      <th></th>\n",
       "      <th></th>\n",
       "      <th></th>\n",
       "      <th></th>\n",
       "      <th></th>\n",
       "      <th></th>\n",
       "      <th></th>\n",
       "      <th></th>\n",
       "      <th></th>\n",
       "      <th></th>\n",
       "      <th></th>\n",
       "      <th></th>\n",
       "      <th></th>\n",
       "      <th></th>\n",
       "      <th></th>\n",
       "      <th></th>\n",
       "      <th></th>\n",
       "      <th></th>\n",
       "      <th></th>\n",
       "      <th></th>\n",
       "      <th></th>\n",
       "    </tr>\n",
       "  </thead>\n",
       "  <tbody>\n",
       "    <tr>\n",
       "      <th>Australia</th>\n",
       "      <td>NaN</td>\n",
       "      <td>NaN</td>\n",
       "      <td>NaN</td>\n",
       "      <td>NaN</td>\n",
       "      <td>NaN</td>\n",
       "      <td>NaN</td>\n",
       "      <td>NaN</td>\n",
       "      <td>NaN</td>\n",
       "      <td>NaN</td>\n",
       "      <td>NaN</td>\n",
       "      <td>...</td>\n",
       "      <td>NaN</td>\n",
       "      <td>NaN</td>\n",
       "      <td>NaN</td>\n",
       "      <td>NaN</td>\n",
       "      <td>12.40</td>\n",
       "      <td>12.69</td>\n",
       "      <td>12.88</td>\n",
       "      <td>13.28</td>\n",
       "      <td>13.73</td>\n",
       "      <td>14.18</td>\n",
       "    </tr>\n",
       "    <tr>\n",
       "      <th>Canada</th>\n",
       "      <td>NaN</td>\n",
       "      <td>0.0</td>\n",
       "      <td>0.00</td>\n",
       "      <td>0.01</td>\n",
       "      <td>0.02</td>\n",
       "      <td>0.03</td>\n",
       "      <td>0.03</td>\n",
       "      <td>0.03</td>\n",
       "      <td>0.05</td>\n",
       "      <td>0.07</td>\n",
       "      <td>...</td>\n",
       "      <td>48.10</td>\n",
       "      <td>49.25</td>\n",
       "      <td>50.14</td>\n",
       "      <td>50.89</td>\n",
       "      <td>51.77</td>\n",
       "      <td>52.39</td>\n",
       "      <td>53.05</td>\n",
       "      <td>53.95</td>\n",
       "      <td>54.99</td>\n",
       "      <td>55.71</td>\n",
       "    </tr>\n",
       "    <tr>\n",
       "      <th>Germany</th>\n",
       "      <td>NaN</td>\n",
       "      <td>NaN</td>\n",
       "      <td>NaN</td>\n",
       "      <td>NaN</td>\n",
       "      <td>NaN</td>\n",
       "      <td>NaN</td>\n",
       "      <td>NaN</td>\n",
       "      <td>NaN</td>\n",
       "      <td>NaN</td>\n",
       "      <td>NaN</td>\n",
       "      <td>...</td>\n",
       "      <td>39.18</td>\n",
       "      <td>39.68</td>\n",
       "      <td>39.95</td>\n",
       "      <td>40.11</td>\n",
       "      <td>40.29</td>\n",
       "      <td>40.64</td>\n",
       "      <td>41.29</td>\n",
       "      <td>41.87</td>\n",
       "      <td>42.40</td>\n",
       "      <td>42.61</td>\n",
       "    </tr>\n",
       "    <tr>\n",
       "      <th>Russia</th>\n",
       "      <td>NaN</td>\n",
       "      <td>NaN</td>\n",
       "      <td>0.02</td>\n",
       "      <td>NaN</td>\n",
       "      <td>NaN</td>\n",
       "      <td>NaN</td>\n",
       "      <td>NaN</td>\n",
       "      <td>NaN</td>\n",
       "      <td>NaN</td>\n",
       "      <td>0.04</td>\n",
       "      <td>...</td>\n",
       "      <td>10.20</td>\n",
       "      <td>10.30</td>\n",
       "      <td>10.50</td>\n",
       "      <td>10.53</td>\n",
       "      <td>10.70</td>\n",
       "      <td>10.81</td>\n",
       "      <td>11.07</td>\n",
       "      <td>11.12</td>\n",
       "      <td>11.19</td>\n",
       "      <td>11.29</td>\n",
       "    </tr>\n",
       "    <tr>\n",
       "      <th>United Kingdom</th>\n",
       "      <td>0.13</td>\n",
       "      <td>NaN</td>\n",
       "      <td>NaN</td>\n",
       "      <td>NaN</td>\n",
       "      <td>NaN</td>\n",
       "      <td>NaN</td>\n",
       "      <td>NaN</td>\n",
       "      <td>0.99</td>\n",
       "      <td>NaN</td>\n",
       "      <td>NaN</td>\n",
       "      <td>...</td>\n",
       "      <td>55.01</td>\n",
       "      <td>55.33</td>\n",
       "      <td>55.63</td>\n",
       "      <td>55.82</td>\n",
       "      <td>55.99</td>\n",
       "      <td>56.27</td>\n",
       "      <td>56.61</td>\n",
       "      <td>56.99</td>\n",
       "      <td>57.29</td>\n",
       "      <td>57.56</td>\n",
       "    </tr>\n",
       "  </tbody>\n",
       "</table>\n",
       "<p>5 rows × 168 columns</p>\n",
       "</div>"
      ],
      "text/plain": [
       "date            2020-12-13  2020-12-14  2020-12-15  2020-12-16  2020-12-17  \\\n",
       "country                                                                      \n",
       "Australia              NaN         NaN         NaN         NaN         NaN   \n",
       "Canada                 NaN         0.0        0.00        0.01        0.02   \n",
       "Germany                NaN         NaN         NaN         NaN         NaN   \n",
       "Russia                 NaN         NaN        0.02         NaN         NaN   \n",
       "United Kingdom        0.13         NaN         NaN         NaN         NaN   \n",
       "\n",
       "date            2020-12-18  2020-12-19  2020-12-20  2020-12-21  2020-12-22  \\\n",
       "country                                                                      \n",
       "Australia              NaN         NaN         NaN         NaN         NaN   \n",
       "Canada                0.03        0.03        0.03        0.05        0.07   \n",
       "Germany                NaN         NaN         NaN         NaN         NaN   \n",
       "Russia                 NaN         NaN         NaN         NaN        0.04   \n",
       "United Kingdom         NaN         NaN        0.99         NaN         NaN   \n",
       "\n",
       "date            ...  2021-05-20  2021-05-21  2021-05-22  2021-05-23  \\\n",
       "country         ...                                                   \n",
       "Australia       ...         NaN         NaN         NaN         NaN   \n",
       "Canada          ...       48.10       49.25       50.14       50.89   \n",
       "Germany         ...       39.18       39.68       39.95       40.11   \n",
       "Russia          ...       10.20       10.30       10.50       10.53   \n",
       "United Kingdom  ...       55.01       55.33       55.63       55.82   \n",
       "\n",
       "date            2021-05-24  2021-05-25  2021-05-26  2021-05-27  2021-05-28  \\\n",
       "country                                                                      \n",
       "Australia            12.40       12.69       12.88       13.28       13.73   \n",
       "Canada               51.77       52.39       53.05       53.95       54.99   \n",
       "Germany              40.29       40.64       41.29       41.87       42.40   \n",
       "Russia               10.70       10.81       11.07       11.12       11.19   \n",
       "United Kingdom       55.99       56.27       56.61       56.99       57.29   \n",
       "\n",
       "date            2021-05-29  \n",
       "country                     \n",
       "Australia            14.18  \n",
       "Canada               55.71  \n",
       "Germany              42.61  \n",
       "Russia               11.29  \n",
       "United Kingdom       57.56  \n",
       "\n",
       "[5 rows x 168 columns]"
      ]
     },
     "metadata": {},
     "output_type": "display_data"
    }
   ],
   "source": [
    "pivot = croped_covid_df.pivot_table(\n",
    "    values='people_vaccinated_per_hundred',\n",
    "    columns='date',\n",
    "    index='country',\n",
    ")\n",
    "pivot.columns = pivot.columns.astype('string')\n",
    "display(pivot)"
   ]
  },
  {
   "cell_type": "markdown",
   "id": "d14281ee-7cc0-4478-9d7d-ba946248f920",
   "metadata": {},
   "source": [
    "Для построения тепловой карты в Seaborn используется метод heatmap(). Данный метод работает с табличными данными и визуализирует все ячейки таблицы с помощью цвета. Параметр annot отвечает за отображение легенды (аннотации), параметр cmap — за цветовую гамму графика."
   ]
  },
  {
   "cell_type": "code",
   "execution_count": 92,
   "id": "4bc2d878-7a39-4ee8-898d-e5e9d0a3a18a",
   "metadata": {},
   "outputs": [
    {
     "data": {
      "image/png": "[encoded data removed]",
      "text/plain": [
       "<Figure size 432x288 with 2 Axes>"
      ]
     },
     "metadata": {
      "needs_background": "light"
     },
     "output_type": "display_data"
    }
   ],
   "source": [
    "heatmap = sns.heatmap(data=pivot, cmap='YlGnBu')\n",
    "heatmap.set_title('Тепловая карта вакцинации', fontsize=16);"
   ]
  },
  {
   "cell_type": "markdown",
   "id": "282243de-4d34-49c9-b4ff-a1231ff108c0",
   "metadata": {},
   "source": [
    "По тепловой карте легко можно понять, в каких странах темпы вакцинации выше, а в каких — ниже. Согласно легенде справа, чем ближе цвет полосы к синему, тем больше процент вакцинированных людей. Чем быстрее полоса переходит от блёклого жёлтого к насыщенному синему, тем выше темп вакцинации. Белые полосы обозначают отсутствие информации за данный период.\n",
    "\n",
    "Так, можно судить, что наиболее активно кампания по вакцинации проходила в Великобритании, и на конец периода число вакцинированных первым компонентом людей в стране превысило отметку в 50 % от общего числа населения. В Канаде вакцинация населения вначале проходила медленнее, однако к концу периода наблюдений общий процент вакцинированных первым компонентом сравнялся с Великобританией.\n",
    "\n",
    "Темпы вакцинации в России и Австралии гораздо ниже: здесь число привитых на конец периода составляет около 10 % от общего числа населения.\n",
    "\n",
    "При этом с помощью тепловой карты мы смогли увидеть, что в данных о вакцинации в России, Великобритании и Австралии содержатся пропуски, и мы даже можем узнать, за какие периоды, посмотрев на ось абсцисс."
   ]
  },
  {
   "cell_type": "markdown",
   "id": "cd41fd6a-dc3b-4535-9020-62c27db95ca9",
   "metadata": {},
   "source": [
    "## Создайте новый признак confirmed_per_hundred, который покажет процентное отношение заболевших вирусом к общему числу населения в странах ().\n",
    "Постройте тепловую карту, которая покажет, как росло число заболевших в процентах от общего числа населения (confirmed_per_hundred) в странах из таблицы croped_covid_df."
   ]
  },
  {
   "cell_type": "code",
   "execution_count": 93,
   "id": "57c8722d-f488-45e0-8747-e51ce81b427b",
   "metadata": {},
   "outputs": [
    {
     "data": {
      "text/plain": [
       "Text(0.5, 1.0, 'Тепловая карта заболеваемости')"
      ]
     },
     "execution_count": 93,
     "metadata": {},
     "output_type": "execute_result"
    },
    {
     "data": {
      "image/png": "[encoded data removed]",
      "text/plain": [
       "<Figure size 720x360 with 2 Axes>"
      ]
     },
     "metadata": {
      "needs_background": "light"
     },
     "output_type": "display_data"
    }
   ],
   "source": [
    "croped_covid_df['confirmed_per_hundred'] = croped_covid_df['confirmed']/croped_covid_df['population'] * 100\n",
    "pivot = croped_covid_df.pivot_table(\n",
    "    values='confirmed_per_hundred',\n",
    "    columns='date',\n",
    "    index='country'\n",
    ")\n",
    "pivot.columns = pivot.columns.astype('string')\n",
    "fig = plt.figure(figsize=(10, 5))\n",
    "\n",
    "heatmap = sns.heatmap(data=pivot, cmap='plasma')\n",
    "heatmap.set_title('Тепловая карта заболеваемости', fontsize=16)"
   ]
  },
  {
   "cell_type": "markdown",
   "id": "0adc5cfa-55b1-4a1f-bd8c-8c948c9cb92e",
   "metadata": {},
   "source": [
    "## Постройте коробчатую диаграмму для признака recover_rate (отношение выздоровлений к числу зафиксированных случаев заболевания в процентах)."
   ]
  },
  {
   "cell_type": "code",
   "execution_count": 94,
   "id": "228b2090-63a9-49f5-89f5-5ed8c6cf2535",
   "metadata": {},
   "outputs": [
    {
     "data": {
      "image/png": "[encoded data removed]",
      "text/plain": [
       "<Figure size 720x504 with 1 Axes>"
      ]
     },
     "metadata": {
      "needs_background": "light"
     },
     "output_type": "display_data"
    }
   ],
   "source": [
    "fig = plt.figure(figsize=(10, 7))\n",
    "boxplot = sns.boxplot(\n",
    "    data=croped_covid_df,\n",
    "    x='country',\n",
    "    y='recover_rate',\n",
    "    orient='v',\n",
    "    width=0.9\n",
    ")"
   ]
  },
  {
   "cell_type": "code",
   "execution_count": null,
   "id": "2c9bcf10-1cdb-4d6b-a3b0-648072a5a8dc",
   "metadata": {},
   "outputs": [],
   "source": []
  }
 ],
 "metadata": {
  "kernelspec": {
   "display_name": "Python 3 (ipykernel)",
   "language": "python",
   "name": "python3"
  },
  "language_info": {
   "codemirror_mode": {
    "name": "ipython",
    "version": 3
   },
   "file_extension": ".py",
   "mimetype": "text/x-python",
   "name": "python",
   "nbconvert_exporter": "python",
   "pygments_lexer": "ipython3",
   "version": "3.9.12"
  }
 },
 "nbformat": 4,
 "nbformat_minor": 5
}
